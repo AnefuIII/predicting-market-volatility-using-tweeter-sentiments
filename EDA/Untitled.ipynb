{
 "cells": [
  {
   "cell_type": "code",
   "execution_count": 1,
   "id": "07ac2c4d",
   "metadata": {},
   "outputs": [],
   "source": [
    "import pandas as pd\n",
    "import numpy as np"
   ]
  },
  {
   "cell_type": "code",
   "execution_count": 2,
   "id": "131d1b8c",
   "metadata": {},
   "outputs": [
    {
     "data": {
      "text/html": [
       "<div>\n",
       "<style scoped>\n",
       "    .dataframe tbody tr th:only-of-type {\n",
       "        vertical-align: middle;\n",
       "    }\n",
       "\n",
       "    .dataframe tbody tr th {\n",
       "        vertical-align: top;\n",
       "    }\n",
       "\n",
       "    .dataframe thead th {\n",
       "        text-align: right;\n",
       "    }\n",
       "</style>\n",
       "<table border=\"1\" class=\"dataframe\">\n",
       "  <thead>\n",
       "    <tr style=\"text-align: right;\">\n",
       "      <th></th>\n",
       "      <th>Datetime</th>\n",
       "      <th>Text</th>\n",
       "    </tr>\n",
       "  </thead>\n",
       "  <tbody>\n",
       "    <tr>\n",
       "      <th>0</th>\n",
       "      <td>2020-06-29 22:56:32+00:00</td>\n",
       "      <td>GBPAUD  PIPS Profit🔥🔥For free signals Join for...</td>\n",
       "    </tr>\n",
       "    <tr>\n",
       "      <th>1</th>\n",
       "      <td>2020-06-29 22:20:05+00:00</td>\n",
       "      <td>APPLE ANALYSIS  MIN                   BUY SIGN...</td>\n",
       "    </tr>\n",
       "    <tr>\n",
       "      <th>2</th>\n",
       "      <td>2020-06-29 21:35:23+00:00</td>\n",
       "      <td>EURNZD  Hit  PIPS PROFIT 🔥👍🏻⚡️For Forex signal...</td>\n",
       "    </tr>\n",
       "    <tr>\n",
       "      <th>3</th>\n",
       "      <td>2020-06-29 21:17:03+00:00</td>\n",
       "      <td>Apple Inc price at close  is  apple AAPL</td>\n",
       "    </tr>\n",
       "    <tr>\n",
       "      <th>4</th>\n",
       "      <td>2020-06-29 20:40:54+00:00</td>\n",
       "      <td>NZDCAD Target Hit  PIPS Profit 🔥Checkout the B...</td>\n",
       "    </tr>\n",
       "  </tbody>\n",
       "</table>\n",
       "</div>"
      ],
      "text/plain": [
       "                    Datetime  \\\n",
       "0  2020-06-29 22:56:32+00:00   \n",
       "1  2020-06-29 22:20:05+00:00   \n",
       "2  2020-06-29 21:35:23+00:00   \n",
       "3  2020-06-29 21:17:03+00:00   \n",
       "4  2020-06-29 20:40:54+00:00   \n",
       "\n",
       "                                                Text  \n",
       "0  GBPAUD  PIPS Profit🔥🔥For free signals Join for...  \n",
       "1  APPLE ANALYSIS  MIN                   BUY SIGN...  \n",
       "2  EURNZD  Hit  PIPS PROFIT 🔥👍🏻⚡️For Forex signal...  \n",
       "3           Apple Inc price at close  is  apple AAPL  \n",
       "4  NZDCAD Target Hit  PIPS Profit 🔥Checkout the B...  "
      ]
     },
     "execution_count": 2,
     "metadata": {},
     "output_type": "execute_result"
    }
   ],
   "source": [
    "df = pd.read_csv('cleaned_appletwi.csv')\n",
    "df.head()"
   ]
  },
  {
   "cell_type": "code",
   "execution_count": null,
   "id": "e9d3b52f",
   "metadata": {},
   "outputs": [],
   "source": []
  }
 ],
 "metadata": {
  "kernelspec": {
   "display_name": "Python 3 (ipykernel)",
   "language": "python",
   "name": "python3"
  },
  "language_info": {
   "codemirror_mode": {
    "name": "ipython",
    "version": 3
   },
   "file_extension": ".py",
   "mimetype": "text/x-python",
   "name": "python",
   "nbconvert_exporter": "python",
   "pygments_lexer": "ipython3",
   "version": "3.9.12"
  }
 },
 "nbformat": 4,
 "nbformat_minor": 5
}
