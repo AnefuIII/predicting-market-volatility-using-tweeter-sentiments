{
 "cells": [
  {
   "cell_type": "code",
   "execution_count": null,
   "id": "c113f1ca",
   "metadata": {},
   "outputs": [],
   "source": [
    "import flask\n",
    "\n",
    "flaskApp = flask.Flask(__name__, template_folder='templates')\n",
    "@flaskApp.route('/')\n",
    "def main():\n",
    "    return(flask.render_template('main.html'))\n",
    "if __name__ == '__main__':\n",
    "    flaskApp.run()"
   ]
  },
  {
   "cell_type": "code",
   "execution_count": null,
   "id": "4865296e",
   "metadata": {},
   "outputs": [],
   "source": []
  }
 ],
 "metadata": {
  "kernelspec": {
   "display_name": "Python 3 (ipykernel)",
   "language": "python",
   "name": "python3"
  },
  "language_info": {
   "codemirror_mode": {
    "name": "ipython",
    "version": 3
   },
   "file_extension": ".py",
   "mimetype": "text/x-python",
   "name": "python",
   "nbconvert_exporter": "python",
   "pygments_lexer": "ipython3",
   "version": "3.8.5"
  }
 },
 "nbformat": 4,
 "nbformat_minor": 5
}
