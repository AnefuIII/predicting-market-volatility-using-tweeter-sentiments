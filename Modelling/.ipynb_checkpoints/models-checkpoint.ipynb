{
 "cells": [
  {
   "cell_type": "markdown",
   "metadata": {},
   "source": [
    "# MODELLING"
   ]
  },
  {
   "cell_type": "markdown",
   "metadata": {},
   "source": [
    "** import the libraries **"
   ]
  },
  {
   "cell_type": "code",
   "execution_count": 2,
   "metadata": {},
   "outputs": [],
   "source": [
    "import pandas as pd\n",
    "import numpy as np\n",
    "import seaborn as sns"
   ]
  },
  {
   "cell_type": "code",
   "execution_count": 3,
   "metadata": {},
   "outputs": [],
   "source": [
    "df = pd.read_csv('Twitter_stock_final_dataset.csv')"
   ]
  },
  {
   "cell_type": "code",
   "execution_count": 4,
   "metadata": {},
   "outputs": [
    {
     "data": {
      "text/html": [
       "<div>\n",
       "<style scoped>\n",
       "    .dataframe tbody tr th:only-of-type {\n",
       "        vertical-align: middle;\n",
       "    }\n",
       "\n",
       "    .dataframe tbody tr th {\n",
       "        vertical-align: top;\n",
       "    }\n",
       "\n",
       "    .dataframe thead th {\n",
       "        text-align: right;\n",
       "    }\n",
       "</style>\n",
       "<table border=\"1\" class=\"dataframe\">\n",
       "  <thead>\n",
       "    <tr style=\"text-align: right;\">\n",
       "      <th></th>\n",
       "      <th>Year</th>\n",
       "      <th>Month</th>\n",
       "      <th>Day</th>\n",
       "      <th>StockName</th>\n",
       "      <th>Positive</th>\n",
       "      <th>Negative</th>\n",
       "      <th>Neutral</th>\n",
       "      <th>Total Tweets</th>\n",
       "      <th>Close</th>\n",
       "      <th>Volume</th>\n",
       "      <th>Open</th>\n",
       "      <th>High</th>\n",
       "      <th>Low</th>\n",
       "      <th>Day_of_week</th>\n",
       "    </tr>\n",
       "  </thead>\n",
       "  <tbody>\n",
       "    <tr>\n",
       "      <th>0</th>\n",
       "      <td>2020</td>\n",
       "      <td>1</td>\n",
       "      <td>1</td>\n",
       "      <td>apple</td>\n",
       "      <td>10</td>\n",
       "      <td>2</td>\n",
       "      <td>8</td>\n",
       "      <td>20</td>\n",
       "      <td>75.0875</td>\n",
       "      <td>135647440.0</td>\n",
       "      <td>74.0600</td>\n",
       "      <td>75.1500</td>\n",
       "      <td>73.7975</td>\n",
       "      <td>Wednesday</td>\n",
       "    </tr>\n",
       "    <tr>\n",
       "      <th>1</th>\n",
       "      <td>2020</td>\n",
       "      <td>1</td>\n",
       "      <td>1</td>\n",
       "      <td>microsoft</td>\n",
       "      <td>9</td>\n",
       "      <td>0</td>\n",
       "      <td>11</td>\n",
       "      <td>20</td>\n",
       "      <td>160.6200</td>\n",
       "      <td>22634550.0</td>\n",
       "      <td>158.7800</td>\n",
       "      <td>160.7300</td>\n",
       "      <td>158.3300</td>\n",
       "      <td>Wednesday</td>\n",
       "    </tr>\n",
       "    <tr>\n",
       "      <th>2</th>\n",
       "      <td>2020</td>\n",
       "      <td>1</td>\n",
       "      <td>1</td>\n",
       "      <td>tesla</td>\n",
       "      <td>17</td>\n",
       "      <td>3</td>\n",
       "      <td>3</td>\n",
       "      <td>23</td>\n",
       "      <td>86.0520</td>\n",
       "      <td>47791930.0</td>\n",
       "      <td>84.9000</td>\n",
       "      <td>86.1391</td>\n",
       "      <td>84.3420</td>\n",
       "      <td>Wednesday</td>\n",
       "    </tr>\n",
       "    <tr>\n",
       "      <th>3</th>\n",
       "      <td>2020</td>\n",
       "      <td>1</td>\n",
       "      <td>1</td>\n",
       "      <td>nvidia</td>\n",
       "      <td>1</td>\n",
       "      <td>0</td>\n",
       "      <td>0</td>\n",
       "      <td>1</td>\n",
       "      <td>59.9775</td>\n",
       "      <td>23767876.0</td>\n",
       "      <td>59.6875</td>\n",
       "      <td>59.9775</td>\n",
       "      <td>59.1800</td>\n",
       "      <td>Wednesday</td>\n",
       "    </tr>\n",
       "    <tr>\n",
       "      <th>4</th>\n",
       "      <td>2020</td>\n",
       "      <td>1</td>\n",
       "      <td>1</td>\n",
       "      <td>paypal</td>\n",
       "      <td>1</td>\n",
       "      <td>0</td>\n",
       "      <td>1</td>\n",
       "      <td>2</td>\n",
       "      <td>110.7500</td>\n",
       "      <td>7419283.0</td>\n",
       "      <td>109.4700</td>\n",
       "      <td>111.2100</td>\n",
       "      <td>109.2750</td>\n",
       "      <td>Wednesday</td>\n",
       "    </tr>\n",
       "  </tbody>\n",
       "</table>\n",
       "</div>"
      ],
      "text/plain": [
       "   Year  Month  Day  StockName  Positive  Negative  Neutral  Total Tweets  \\\n",
       "0  2020      1    1      apple        10         2        8            20   \n",
       "1  2020      1    1  microsoft         9         0       11            20   \n",
       "2  2020      1    1      tesla        17         3        3            23   \n",
       "3  2020      1    1     nvidia         1         0        0             1   \n",
       "4  2020      1    1     paypal         1         0        1             2   \n",
       "\n",
       "      Close       Volume      Open      High       Low Day_of_week  \n",
       "0   75.0875  135647440.0   74.0600   75.1500   73.7975   Wednesday  \n",
       "1  160.6200   22634550.0  158.7800  160.7300  158.3300   Wednesday  \n",
       "2   86.0520   47791930.0   84.9000   86.1391   84.3420   Wednesday  \n",
       "3   59.9775   23767876.0   59.6875   59.9775   59.1800   Wednesday  \n",
       "4  110.7500    7419283.0  109.4700  111.2100  109.2750   Wednesday  "
      ]
     },
     "execution_count": 4,
     "metadata": {},
     "output_type": "execute_result"
    }
   ],
   "source": [
    "df.head()"
   ]
  },
  {
   "cell_type": "code",
   "execution_count": 5,
   "metadata": {},
   "outputs": [
    {
     "data": {
      "text/plain": [
       "Year              int64\n",
       "Month             int64\n",
       "Day               int64\n",
       "StockName        object\n",
       "Positive          int64\n",
       "Negative          int64\n",
       "Neutral           int64\n",
       "Total Tweets      int64\n",
       "Close           float64\n",
       "Volume          float64\n",
       "Open            float64\n",
       "High            float64\n",
       "Low             float64\n",
       "Day_of_week      object\n",
       "dtype: object"
      ]
     },
     "execution_count": 5,
     "metadata": {},
     "output_type": "execute_result"
    }
   ],
   "source": [
    "df.dtypes"
   ]
  },
  {
   "cell_type": "code",
   "execution_count": 6,
   "metadata": {},
   "outputs": [
    {
     "data": {
      "text/plain": [
       "Year            0\n",
       "Month           0\n",
       "Day             0\n",
       "StockName       0\n",
       "Positive        0\n",
       "Negative        0\n",
       "Neutral         0\n",
       "Total Tweets    0\n",
       "Close           0\n",
       "Volume          0\n",
       "Open            0\n",
       "High            0\n",
       "Low             0\n",
       "Day_of_week     0\n",
       "dtype: int64"
      ]
     },
     "execution_count": 6,
     "metadata": {},
     "output_type": "execute_result"
    }
   ],
   "source": [
    "df.isnull().sum()"
   ]
  },
  {
   "cell_type": "markdown",
   "metadata": {},
   "source": [
    "<h4> feature engineering </h4>"
   ]
  },
  {
   "cell_type": "code",
   "execution_count": 7,
   "metadata": {},
   "outputs": [
    {
     "data": {
      "text/html": [
       "<div>\n",
       "<style scoped>\n",
       "    .dataframe tbody tr th:only-of-type {\n",
       "        vertical-align: middle;\n",
       "    }\n",
       "\n",
       "    .dataframe tbody tr th {\n",
       "        vertical-align: top;\n",
       "    }\n",
       "\n",
       "    .dataframe thead th {\n",
       "        text-align: right;\n",
       "    }\n",
       "</style>\n",
       "<table border=\"1\" class=\"dataframe\">\n",
       "  <thead>\n",
       "    <tr style=\"text-align: right;\">\n",
       "      <th></th>\n",
       "      <th>Year</th>\n",
       "      <th>Month</th>\n",
       "      <th>Day</th>\n",
       "      <th>Positive</th>\n",
       "      <th>Negative</th>\n",
       "      <th>Neutral</th>\n",
       "      <th>Total Tweets</th>\n",
       "      <th>Close</th>\n",
       "      <th>Volume</th>\n",
       "      <th>Open</th>\n",
       "      <th>High</th>\n",
       "      <th>Low</th>\n",
       "    </tr>\n",
       "  </thead>\n",
       "  <tbody>\n",
       "    <tr>\n",
       "      <th>Year</th>\n",
       "      <td>1.000000</td>\n",
       "      <td>-0.258174</td>\n",
       "      <td>-0.023178</td>\n",
       "      <td>0.022999</td>\n",
       "      <td>0.078817</td>\n",
       "      <td>0.078385</td>\n",
       "      <td>0.069508</td>\n",
       "      <td>0.403152</td>\n",
       "      <td>-0.286026</td>\n",
       "      <td>0.404572</td>\n",
       "      <td>0.399621</td>\n",
       "      <td>0.408980</td>\n",
       "    </tr>\n",
       "    <tr>\n",
       "      <th>Month</th>\n",
       "      <td>-0.258174</td>\n",
       "      <td>1.000000</td>\n",
       "      <td>-0.012057</td>\n",
       "      <td>0.003974</td>\n",
       "      <td>-0.018233</td>\n",
       "      <td>-0.060243</td>\n",
       "      <td>-0.040026</td>\n",
       "      <td>0.086547</td>\n",
       "      <td>-0.079436</td>\n",
       "      <td>0.085500</td>\n",
       "      <td>0.083239</td>\n",
       "      <td>0.087158</td>\n",
       "    </tr>\n",
       "    <tr>\n",
       "      <th>Day</th>\n",
       "      <td>-0.023178</td>\n",
       "      <td>-0.012057</td>\n",
       "      <td>1.000000</td>\n",
       "      <td>0.000881</td>\n",
       "      <td>-0.004657</td>\n",
       "      <td>0.025214</td>\n",
       "      <td>0.015960</td>\n",
       "      <td>0.006653</td>\n",
       "      <td>0.004501</td>\n",
       "      <td>0.004983</td>\n",
       "      <td>0.005126</td>\n",
       "      <td>0.006218</td>\n",
       "    </tr>\n",
       "    <tr>\n",
       "      <th>Positive</th>\n",
       "      <td>0.022999</td>\n",
       "      <td>0.003974</td>\n",
       "      <td>0.000881</td>\n",
       "      <td>1.000000</td>\n",
       "      <td>0.913974</td>\n",
       "      <td>0.567013</td>\n",
       "      <td>0.842240</td>\n",
       "      <td>0.540999</td>\n",
       "      <td>0.253104</td>\n",
       "      <td>0.540088</td>\n",
       "      <td>0.547544</td>\n",
       "      <td>0.532495</td>\n",
       "    </tr>\n",
       "    <tr>\n",
       "      <th>Negative</th>\n",
       "      <td>0.078817</td>\n",
       "      <td>-0.018233</td>\n",
       "      <td>-0.004657</td>\n",
       "      <td>0.913974</td>\n",
       "      <td>1.000000</td>\n",
       "      <td>0.542693</td>\n",
       "      <td>0.808152</td>\n",
       "      <td>0.547786</td>\n",
       "      <td>0.181870</td>\n",
       "      <td>0.548210</td>\n",
       "      <td>0.555015</td>\n",
       "      <td>0.539467</td>\n",
       "    </tr>\n",
       "    <tr>\n",
       "      <th>Neutral</th>\n",
       "      <td>0.078385</td>\n",
       "      <td>-0.060243</td>\n",
       "      <td>0.025214</td>\n",
       "      <td>0.567013</td>\n",
       "      <td>0.542693</td>\n",
       "      <td>1.000000</td>\n",
       "      <td>0.919269</td>\n",
       "      <td>0.359389</td>\n",
       "      <td>0.134897</td>\n",
       "      <td>0.358764</td>\n",
       "      <td>0.363237</td>\n",
       "      <td>0.353223</td>\n",
       "    </tr>\n",
       "    <tr>\n",
       "      <th>Total Tweets</th>\n",
       "      <td>0.069508</td>\n",
       "      <td>-0.040026</td>\n",
       "      <td>0.015960</td>\n",
       "      <td>0.842240</td>\n",
       "      <td>0.808152</td>\n",
       "      <td>0.919269</td>\n",
       "      <td>1.000000</td>\n",
       "      <td>0.496966</td>\n",
       "      <td>0.200829</td>\n",
       "      <td>0.496301</td>\n",
       "      <td>0.502737</td>\n",
       "      <td>0.488859</td>\n",
       "    </tr>\n",
       "    <tr>\n",
       "      <th>Close</th>\n",
       "      <td>0.403152</td>\n",
       "      <td>0.086547</td>\n",
       "      <td>0.006653</td>\n",
       "      <td>0.540999</td>\n",
       "      <td>0.547786</td>\n",
       "      <td>0.359389</td>\n",
       "      <td>0.496966</td>\n",
       "      <td>1.000000</td>\n",
       "      <td>-0.311128</td>\n",
       "      <td>0.999192</td>\n",
       "      <td>0.999160</td>\n",
       "      <td>0.999518</td>\n",
       "    </tr>\n",
       "    <tr>\n",
       "      <th>Volume</th>\n",
       "      <td>-0.286026</td>\n",
       "      <td>-0.079436</td>\n",
       "      <td>0.004501</td>\n",
       "      <td>0.253104</td>\n",
       "      <td>0.181870</td>\n",
       "      <td>0.134897</td>\n",
       "      <td>0.200829</td>\n",
       "      <td>-0.311128</td>\n",
       "      <td>1.000000</td>\n",
       "      <td>-0.311808</td>\n",
       "      <td>-0.305686</td>\n",
       "      <td>-0.317562</td>\n",
       "    </tr>\n",
       "    <tr>\n",
       "      <th>Open</th>\n",
       "      <td>0.404572</td>\n",
       "      <td>0.085500</td>\n",
       "      <td>0.004983</td>\n",
       "      <td>0.540088</td>\n",
       "      <td>0.548210</td>\n",
       "      <td>0.358764</td>\n",
       "      <td>0.496301</td>\n",
       "      <td>0.999192</td>\n",
       "      <td>-0.311808</td>\n",
       "      <td>1.000000</td>\n",
       "      <td>0.999186</td>\n",
       "      <td>0.999494</td>\n",
       "    </tr>\n",
       "    <tr>\n",
       "      <th>High</th>\n",
       "      <td>0.399621</td>\n",
       "      <td>0.083239</td>\n",
       "      <td>0.005126</td>\n",
       "      <td>0.547544</td>\n",
       "      <td>0.555015</td>\n",
       "      <td>0.363237</td>\n",
       "      <td>0.502737</td>\n",
       "      <td>0.999160</td>\n",
       "      <td>-0.305686</td>\n",
       "      <td>0.999186</td>\n",
       "      <td>1.000000</td>\n",
       "      <td>0.998766</td>\n",
       "    </tr>\n",
       "    <tr>\n",
       "      <th>Low</th>\n",
       "      <td>0.408980</td>\n",
       "      <td>0.087158</td>\n",
       "      <td>0.006218</td>\n",
       "      <td>0.532495</td>\n",
       "      <td>0.539467</td>\n",
       "      <td>0.353223</td>\n",
       "      <td>0.488859</td>\n",
       "      <td>0.999518</td>\n",
       "      <td>-0.317562</td>\n",
       "      <td>0.999494</td>\n",
       "      <td>0.998766</td>\n",
       "      <td>1.000000</td>\n",
       "    </tr>\n",
       "  </tbody>\n",
       "</table>\n",
       "</div>"
      ],
      "text/plain": [
       "                  Year     Month       Day  Positive  Negative   Neutral  \\\n",
       "Year          1.000000 -0.258174 -0.023178  0.022999  0.078817  0.078385   \n",
       "Month        -0.258174  1.000000 -0.012057  0.003974 -0.018233 -0.060243   \n",
       "Day          -0.023178 -0.012057  1.000000  0.000881 -0.004657  0.025214   \n",
       "Positive      0.022999  0.003974  0.000881  1.000000  0.913974  0.567013   \n",
       "Negative      0.078817 -0.018233 -0.004657  0.913974  1.000000  0.542693   \n",
       "Neutral       0.078385 -0.060243  0.025214  0.567013  0.542693  1.000000   \n",
       "Total Tweets  0.069508 -0.040026  0.015960  0.842240  0.808152  0.919269   \n",
       "Close         0.403152  0.086547  0.006653  0.540999  0.547786  0.359389   \n",
       "Volume       -0.286026 -0.079436  0.004501  0.253104  0.181870  0.134897   \n",
       "Open          0.404572  0.085500  0.004983  0.540088  0.548210  0.358764   \n",
       "High          0.399621  0.083239  0.005126  0.547544  0.555015  0.363237   \n",
       "Low           0.408980  0.087158  0.006218  0.532495  0.539467  0.353223   \n",
       "\n",
       "              Total Tweets     Close    Volume      Open      High       Low  \n",
       "Year              0.069508  0.403152 -0.286026  0.404572  0.399621  0.408980  \n",
       "Month            -0.040026  0.086547 -0.079436  0.085500  0.083239  0.087158  \n",
       "Day               0.015960  0.006653  0.004501  0.004983  0.005126  0.006218  \n",
       "Positive          0.842240  0.540999  0.253104  0.540088  0.547544  0.532495  \n",
       "Negative          0.808152  0.547786  0.181870  0.548210  0.555015  0.539467  \n",
       "Neutral           0.919269  0.359389  0.134897  0.358764  0.363237  0.353223  \n",
       "Total Tweets      1.000000  0.496966  0.200829  0.496301  0.502737  0.488859  \n",
       "Close             0.496966  1.000000 -0.311128  0.999192  0.999160  0.999518  \n",
       "Volume            0.200829 -0.311128  1.000000 -0.311808 -0.305686 -0.317562  \n",
       "Open              0.496301  0.999192 -0.311808  1.000000  0.999186  0.999494  \n",
       "High              0.502737  0.999160 -0.305686  0.999186  1.000000  0.998766  \n",
       "Low               0.488859  0.999518 -0.317562  0.999494  0.998766  1.000000  "
      ]
     },
     "execution_count": 7,
     "metadata": {},
     "output_type": "execute_result"
    }
   ],
   "source": [
    "df.corr() # correlation"
   ]
  },
  {
   "cell_type": "markdown",
   "metadata": {},
   "source": [
    "find the correlation between total tweets and close"
   ]
  },
  {
   "cell_type": "code",
   "execution_count": 8,
   "metadata": {},
   "outputs": [
    {
     "name": "stdout",
     "output_type": "stream",
     "text": [
      "          Volume     Close\n",
      "Volume  1.000000 -0.311128\n",
      "Close  -0.311128  1.000000\n"
     ]
    },
    {
     "data": {
      "text/plain": [
       "<AxesSubplot:xlabel='Volume', ylabel='Close'>"
      ]
     },
     "execution_count": 8,
     "metadata": {},
     "output_type": "execute_result"
    },
    {
     "data": {
      "image/png": "[encoded data removed]",
      "text/plain": [
       "<Figure size 432x288 with 1 Axes>"
      ]
     },
     "metadata": {
      "needs_background": "light"
     },
     "output_type": "display_data"
    }
   ],
   "source": [
    "print(df[['Volume','Close']].corr())\n",
    "sns.regplot(x = 'Volume', y = 'Close', data = df)"
   ]
  },
  {
   "cell_type": "code",
   "execution_count": 9,
   "metadata": {},
   "outputs": [
    {
     "name": "stdout",
     "output_type": "stream",
     "text": [
      "           Open     Close\n",
      "Open   1.000000  0.999192\n",
      "Close  0.999192  1.000000\n"
     ]
    },
    {
     "data": {
      "text/plain": [
       "<AxesSubplot:xlabel='Open', ylabel='Close'>"
      ]
     },
     "execution_count": 9,
     "metadata": {},
     "output_type": "execute_result"
    },
    {
     "data": {
      "image/png": "[encoded data removed]",
      "text/plain": [
       "<Figure size 432x288 with 1 Axes>"
      ]
     },
     "metadata": {
      "needs_background": "light"
     },
     "output_type": "display_data"
    }
   ],
   "source": [
    "print(df[['Open','Close']].corr())\n",
    "sns.regplot(x = 'Open', y = 'Close', data = df)"
   ]
  },
  {
   "cell_type": "code",
   "execution_count": 10,
   "metadata": {},
   "outputs": [
    {
     "name": "stdout",
     "output_type": "stream",
     "text": [
      "          High    Close\n",
      "High   1.00000  0.99916\n",
      "Close  0.99916  1.00000\n"
     ]
    },
    {
     "data": {
      "text/plain": [
       "<AxesSubplot:xlabel='High', ylabel='Close'>"
      ]
     },
     "execution_count": 10,
     "metadata": {},
     "output_type": "execute_result"
    },
    {
     "data": {
      "image/png": "[encoded data removed]",
      "text/plain": [
       "<Figure size 432x288 with 1 Axes>"
      ]
     },
     "metadata": {
      "needs_background": "light"
     },
     "output_type": "display_data"
    }
   ],
   "source": [
    "print(df[['High','Close']].corr())\n",
    "sns.regplot(x = 'High', y = 'Close', data = df)"
   ]
  },
  {
   "cell_type": "code",
   "execution_count": 11,
   "metadata": {},
   "outputs": [
    {
     "name": "stdout",
     "output_type": "stream",
     "text": [
      "            Low     Close\n",
      "Low    1.000000  0.999518\n",
      "Close  0.999518  1.000000\n"
     ]
    },
    {
     "data": {
      "text/plain": [
       "<AxesSubplot:xlabel='Low', ylabel='Close'>"
      ]
     },
     "execution_count": 11,
     "metadata": {},
     "output_type": "execute_result"
    },
    {
     "data": {
      "image/png": "[encoded data removed]",
      "text/plain": [
       "<Figure size 432x288 with 1 Axes>"
      ]
     },
     "metadata": {
      "needs_background": "light"
     },
     "output_type": "display_data"
    }
   ],
   "source": [
    "print(df[['Low','Close']].corr())\n",
    "sns.regplot(x = 'Low', y = 'Close', data = df)"
   ]
  },
  {
   "cell_type": "markdown",
   "metadata": {},
   "source": [
    "<p>As the Open, High and Low prices goes up, the Close price also goes up: this indicates a positive direct correlation with Close price. Open, High and Low prices seem like pretty good predictors of price since the regression line is almost a perfect diagonal line.</p>\n",
    "\n",
    "<p>We shall also examine columns that are associalted with the micro headlines</p>"
   ]
  },
  {
   "cell_type": "code",
   "execution_count": 12,
   "metadata": {},
   "outputs": [
    {
     "name": "stdout",
     "output_type": "stream",
     "text": [
      "              Total Tweets     Close\n",
      "Total Tweets      1.000000  0.496966\n",
      "Close             0.496966  1.000000\n"
     ]
    },
    {
     "data": {
      "text/plain": [
       "<AxesSubplot:xlabel='Total Tweets', ylabel='Close'>"
      ]
     },
     "execution_count": 12,
     "metadata": {},
     "output_type": "execute_result"
    },
    {
     "data": {
      "image/png": "[encoded data removed]",
      "text/plain": [
       "<Figure size 432x288 with 1 Axes>"
      ]
     },
     "metadata": {
      "needs_background": "light"
     },
     "output_type": "display_data"
    }
   ],
   "source": [
    "print(df[['Total Tweets','Close']].corr())\n",
    "sns.regplot(x = 'Total Tweets', y = 'Close', data = df)"
   ]
  },
  {
   "cell_type": "code",
   "execution_count": 13,
   "metadata": {},
   "outputs": [
    {
     "name": "stdout",
     "output_type": "stream",
     "text": [
      "          Positive     Close\n",
      "Positive  1.000000  0.540999\n",
      "Close     0.540999  1.000000\n"
     ]
    },
    {
     "data": {
      "text/plain": [
       "<AxesSubplot:xlabel='Positive', ylabel='Close'>"
      ]
     },
     "execution_count": 13,
     "metadata": {},
     "output_type": "execute_result"
    },
    {
     "data": {
      "image/png": "[encoded data removed]",
      "text/plain": [
       "<Figure size 432x288 with 1 Axes>"
      ]
     },
     "metadata": {
      "needs_background": "light"
     },
     "output_type": "display_data"
    }
   ],
   "source": [
    "print(df[['Positive','Close']].corr())\n",
    "sns.regplot(x = 'Positive', y = 'Close', data = df)"
   ]
  },
  {
   "cell_type": "markdown",
   "metadata": {},
   "source": [
    "<p> We find from some regression plots and correlation table that the macroheadlines (twitter) associated columns fairly correlate with the Close price. However, since our research involves prediction with macroheadlines (sentiment analysis), we shall also include the associated columns in our models. </p>"
   ]
  },
  {
   "cell_type": "code",
   "execution_count": 14,
   "metadata": {},
   "outputs": [
    {
     "data": {
      "text/plain": [
       "<AxesSubplot:xlabel='StockName', ylabel='Close'>"
      ]
     },
     "execution_count": 14,
     "metadata": {},
     "output_type": "execute_result"
    },
    {
     "data": {
      "image/png": "[encoded data removed]",
      "text/plain": [
       "<Figure size 432x288 with 1 Axes>"
      ]
     },
     "metadata": {
      "needs_background": "light"
     },
     "output_type": "display_data"
    }
   ],
   "source": [
    "sns.boxplot(x=\"StockName\", y=\"Close\", data=df)"
   ]
  },
  {
   "cell_type": "code",
   "execution_count": 15,
   "metadata": {},
   "outputs": [
    {
     "data": {
      "text/plain": [
       "<AxesSubplot:xlabel='Day_of_week', ylabel='Close'>"
      ]
     },
     "execution_count": 15,
     "metadata": {},
     "output_type": "execute_result"
    },
    {
     "data": {
      "image/png": "[encoded data removed]",
      "text/plain": [
       "<Figure size 432x288 with 1 Axes>"
      ]
     },
     "metadata": {
      "needs_background": "light"
     },
     "output_type": "display_data"
    }
   ],
   "source": [
    "sns.boxplot(x=\"Day_of_week\", y=\"Close\", data=df)"
   ]
  },
  {
   "cell_type": "markdown",
   "metadata": {},
   "source": [
    "<h4> feature selection </h4>\n",
    "<p> Our feature selection involves selecting close columns as response variable (y) and all the other columns as independent variables (X)</p>\n"
   ]
  },
  {
   "cell_type": "code",
   "execution_count": 16,
   "metadata": {},
   "outputs": [],
   "source": [
    "y = df.loc[:, 'Close'].values"
   ]
  },
  {
   "cell_type": "code",
   "execution_count": 17,
   "metadata": {},
   "outputs": [
    {
     "data": {
      "text/plain": [
       "array([ 75.0875, 160.62  ,  86.052 , ..., 269.91  , 212.46  , 269.49  ])"
      ]
     },
     "execution_count": 17,
     "metadata": {},
     "output_type": "execute_result"
    }
   ],
   "source": [
    "y"
   ]
  },
  {
   "cell_type": "code",
   "execution_count": 18,
   "metadata": {},
   "outputs": [],
   "source": [
    "X = df.drop('Close', axis = 1).values"
   ]
  },
  {
   "cell_type": "code",
   "execution_count": 19,
   "metadata": {},
   "outputs": [
    {
     "data": {
      "text/plain": [
       "array([[2020, 1, 1, ..., 75.15, 73.7975, 'Wednesday'],\n",
       "       [2020, 1, 1, ..., 160.73, 158.33, 'Wednesday'],\n",
       "       [2020, 1, 1, ..., 86.1391, 84.34200000000001, 'Wednesday'],\n",
       "       ...,\n",
       "       [2021, 9, 20, ..., 273.0, 265.68, 'Monday'],\n",
       "       [2021, 9, 21, ..., 214.25, 209.5, 'Tuesday'],\n",
       "       [2021, 9, 21, ..., 272.2986, 267.8, 'Tuesday']], dtype=object)"
      ]
     },
     "execution_count": 19,
     "metadata": {},
     "output_type": "execute_result"
    }
   ],
   "source": [
    "X"
   ]
  },
  {
   "cell_type": "markdown",
   "metadata": {},
   "source": [
    "<h3> Encoding the Categorical variables </h3>\n",
    "\n",
    "* Label encoding: <p> for the tree based alrorithms such as decision tree and random forest </p>\n",
    "* One hot encoding: <p> for linear models, SVMs, or ensemble methods as their data needs to be standardized. </p>"
   ]
  },
  {
   "cell_type": "code",
   "execution_count": 20,
   "metadata": {},
   "outputs": [],
   "source": [
    "# Encoding the Independent or ohject variable Day_of_week\n",
    "from sklearn.preprocessing import LabelEncoder, OneHotEncoder\n",
    "labelencoder_X = LabelEncoder()\n",
    "X[:, -1] = labelencoder_X.fit_transform(X[:, -1]) #Day_of_week\n",
    "\n",
    "X[:, 3] = labelencoder_X.fit_transform(X[:, 3]) #stockName"
   ]
  },
  {
   "cell_type": "code",
   "execution_count": 21,
   "metadata": {},
   "outputs": [
    {
     "data": {
      "text/plain": [
       "array([[2020, 1, 1, ..., 75.15, 73.7975, 6],\n",
       "       [2020, 1, 1, ..., 160.73, 158.33, 6],\n",
       "       [2020, 1, 1, ..., 86.1391, 84.34200000000001, 6],\n",
       "       ...,\n",
       "       [2021, 9, 20, ..., 273.0, 265.68, 1],\n",
       "       [2021, 9, 21, ..., 214.25, 209.5, 5],\n",
       "       [2021, 9, 21, ..., 272.2986, 267.8, 5]], dtype=object)"
      ]
     },
     "execution_count": 21,
     "metadata": {},
     "output_type": "execute_result"
    }
   ],
   "source": [
    "X"
   ]
  },
  {
   "cell_type": "markdown",
   "metadata": {},
   "source": [
    "## MODELS  \n",
    "### ENSEMBLE MODELS\n",
    "<break>\n",
    "    </break>\n",
    "       <h4> DECISION TREE </h4> \n",
    "       <p>without standardizing"
   ]
  },
  {
   "cell_type": "code",
   "execution_count": 22,
   "metadata": {},
   "outputs": [],
   "source": [
    "X_D = X #independent variables for decision tree\n",
    "y_D = y #Response variable for decision tree\n"
   ]
  },
  {
   "cell_type": "code",
   "execution_count": 23,
   "metadata": {},
   "outputs": [
    {
     "name": "stdout",
     "output_type": "stream",
     "text": [
      "continuous\n"
     ]
    }
   ],
   "source": [
    "from sklearn import utils\n",
    "\n",
    "print(utils.multiclass.type_of_target(y_D))"
   ]
  },
  {
   "cell_type": "markdown",
   "metadata": {},
   "source": [
    "We cannot pass floats to a classifier which expects categorical values as the Response target vector. Therefore, we convert it to int it will be accepted as input."
   ]
  },
  {
   "cell_type": "code",
   "execution_count": 24,
   "metadata": {},
   "outputs": [
    {
     "name": "stdout",
     "output_type": "stream",
     "text": [
      "[ 198 1359  304 ... 2316 1865 2313]\n",
      "continuous\n",
      "multiclass\n",
      "multiclass\n"
     ]
    }
   ],
   "source": [
    "y_enc = LabelEncoder()\n",
    "y_DEncoded = y_enc.fit_transform(y_D)\n",
    "print(y_DEncoded)\n",
    "print(utils.multiclass.type_of_target(y_D))\n",
    "print(utils.multiclass.type_of_target(y_D.astype('int')))\n",
    "print(utils.multiclass.type_of_target(y_DEncoded))"
   ]
  },
  {
   "cell_type": "markdown",
   "metadata": {},
   "source": [
    "split the dataset into training and test."
   ]
  },
  {
   "cell_type": "code",
   "execution_count": 25,
   "metadata": {},
   "outputs": [],
   "source": [
    "from sklearn.model_selection import train_test_split\n",
    "\n",
    "X_Dtrain, X_Dtest, y_Dtrain, y_Dtest =  train_test_split(X_D,y_DEncoded, test_size = 0.3, random_state= 0)"
   ]
  },
  {
   "cell_type": "markdown",
   "metadata": {},
   "source": [
    "Fit the data in Decision tree classifier"
   ]
  },
  {
   "cell_type": "code",
   "execution_count": 26,
   "metadata": {},
   "outputs": [],
   "source": [
    "from sklearn.tree import DecisionTreeClassifier\n",
    "\n",
    "classifier = DecisionTreeClassifier()\n",
    "classifier = classifier.fit(X_Dtrain,y_Dtrain) "
   ]
  },
  {
   "cell_type": "markdown",
   "metadata": {},
   "source": [
    "Make prediction and check accuracy"
   ]
  },
  {
   "cell_type": "code",
   "execution_count": 27,
   "metadata": {},
   "outputs": [
    {
     "name": "stdout",
     "output_type": "stream",
     "text": [
      "Accuracy Score: 0.0\n",
      "Mean absolute error:  65.33296089385475\n"
     ]
    }
   ],
   "source": [
    "#prediction\n",
    "y_DPred = classifier.predict(X_Dtest)\n",
    "\n",
    "#Accuracy\n",
    "from sklearn import metrics\n",
    "\n",
    "print('Accuracy Score:', metrics.accuracy_score(y_Dtest, y_DPred))\n",
    "print('Mean absolute error: ', metrics.mean_absolute_error(y_Dtest, y_DPred))"
   ]
  },
  {
   "cell_type": "code",
   "execution_count": 28,
   "metadata": {},
   "outputs": [
    {
     "name": "stdout",
     "output_type": "stream",
     "text": [
      "rmse:  102.05903100684361\n"
     ]
    }
   ],
   "source": [
    "#rmse\n",
    "import math\n",
    "mse =np.square(np.subtract(y_Dtest, y_DPred)).mean()\n",
    "rmse = math.sqrt(mse)\n",
    "print('rmse: ', rmse)"
   ]
  },
  {
   "cell_type": "markdown",
   "metadata": {},
   "source": [
    "<h5>INFERENCE</h5>\n",
    "<p> the Decision tree classifier is extremely poor. This is because decision tree works best for predicting a response variable that is categorical. While we tried to convert the float type to int and also label encode it, the performance is very poor.</p>"
   ]
  },
  {
   "cell_type": "code",
   "execution_count": 29,
   "metadata": {},
   "outputs": [],
   "source": [
    "# import numpy as np\n",
    "# from sklearn import linear_model\n",
    "# from sklearn import svm\n",
    "\n",
    "# classifiers = [\n",
    "#     svm.SVR(),\n",
    "#     linear_model.SGDRegressor(),\n",
    "#     linear_model.BayesianRidge(),\n",
    "#     linear_model.LassoLars(),\n",
    "#     linear_model.ARDRegression(),\n",
    "#     linear_model.PassiveAggressiveRegressor(),\n",
    "#     linear_model.TheilSenRegressor(),\n",
    "#     linear_model.LinearRegression()]\n",
    "\n",
    "# trainingData    = np.array([ [2.3, 4.3, 2.5],  [1.3, 5.2, 5.2],  [3.3, 2.9, 0.8],  [3.1, 4.3, 4.0]  ])\n",
    "# trainingScores  = np.array( [3.4, 7.5, 4.5, 1.6] )\n",
    "# predictionData  = np.array([ [2.5, 2.4, 2.7],  [2.7, 3.2, 1.2] ])\n",
    "\n",
    "# for item in classifiers:\n",
    "#     print(item)\n",
    "#     clf = item\n",
    "#     clf.fit(trainingData, trainingScores)\n",
    "#     print(clf.predict(predictionData),'\\n')"
   ]
  },
  {
   "cell_type": "markdown",
   "metadata": {},
   "source": [
    "<h4> RANDOM FOREST </h4>"
   ]
  },
  {
   "cell_type": "code",
   "execution_count": 30,
   "metadata": {},
   "outputs": [],
   "source": [
    "from sklearn.ensemble import RandomForestClassifier\n",
    "\n",
    "#Create a Gaussian Classifier\n",
    "clf=RandomForestClassifier(n_estimators=100)\n",
    "\n",
    "#Train the model using the training sets y_pred=clf.predict(X_test)\n",
    "clf.fit(X_Dtrain,y_Dtrain)\n",
    "\n",
    "y_pred=clf.predict(X_Dtest)"
   ]
  },
  {
   "cell_type": "code",
   "execution_count": 31,
   "metadata": {
    "scrolled": true
   },
   "outputs": [
    {
     "name": "stdout",
     "output_type": "stream",
     "text": [
      "Accuracy Score: 0.0011173184357541898\n",
      "Mean absolute error:  75.2826815642458\n"
     ]
    }
   ],
   "source": [
    "from sklearn import metrics\n",
    "\n",
    "print('Accuracy Score:', metrics.accuracy_score(y_Dtest, y_pred))\n",
    "print('Mean absolute error: ', metrics.mean_absolute_error(y_Dtest, y_pred))"
   ]
  },
  {
   "cell_type": "code",
   "execution_count": 32,
   "metadata": {},
   "outputs": [
    {
     "name": "stdout",
     "output_type": "stream",
     "text": [
      "rmse:  184.05659197724847\n"
     ]
    }
   ],
   "source": [
    "import math\n",
    "\n",
    "mse =np.square(np.subtract(y_Dtest, y_pred)).mean()\n",
    "rmse = math.sqrt(mse)\n",
    "print('rmse: ', rmse)"
   ]
  },
  {
   "cell_type": "markdown",
   "metadata": {},
   "source": [
    "<h5>INFERENCE</h5>\n",
    "<p> the Random forest classifier is extremely poor. We may conclude that ensemble models are not favourable for this problem.</p>\n",
    "<p> But first, let us try and standardize the values if there will be any difference</p>"
   ]
  },
  {
   "cell_type": "code",
   "execution_count": 33,
   "metadata": {},
   "outputs": [],
   "source": [
    "# create another copy of the data\n",
    "\n",
    "y_scale = y_DEncoded\n",
    "X_scale = X_D\n",
    "\n",
    "from sklearn.preprocessing import StandardScaler\n",
    "scaler = StandardScaler() \n",
    "data_scaled = scaler.fit_transform(X_scale)\n",
    "data_scaled = scaler.fit_transform(y_scale.reshape(-1,1))"
   ]
  },
  {
   "cell_type": "code",
   "execution_count": 34,
   "metadata": {},
   "outputs": [
    {
     "data": {
      "text/plain": [
       "array([ 198, 1359,  304, ..., 2316, 1865, 2313], dtype=int64)"
      ]
     },
     "execution_count": 34,
     "metadata": {},
     "output_type": "execute_result"
    }
   ],
   "source": [
    "y_scale"
   ]
  },
  {
   "cell_type": "code",
   "execution_count": 35,
   "metadata": {},
   "outputs": [],
   "source": [
    "# split the data\n",
    "\n",
    "X_Strain, X_Stest, y_Strain, y_Stest =  train_test_split(X_scale,y_scale, test_size = 0.3, random_state= 0)"
   ]
  },
  {
   "cell_type": "code",
   "execution_count": 36,
   "metadata": {},
   "outputs": [
    {
     "name": "stdout",
     "output_type": "stream",
     "text": [
      "Accuracy Score: 0.0\n",
      "rmse:  97.22201166954233\n"
     ]
    }
   ],
   "source": [
    "# Decision tree classifier\n",
    "\n",
    "#train\n",
    "classifier = classifier.fit(X_Strain,y_Strain) \n",
    "\n",
    "#prediction\n",
    "y_SPred = classifier.predict(X_Stest)\n",
    "\n",
    "#Accuracy\n",
    "print('Accuracy Score:', metrics.accuracy_score(y_Stest, y_SPred))\n",
    "\n",
    "#rmse\n",
    "mse =np.square(np.subtract(y_Stest, y_SPred)).mean()\n",
    "rmse = math.sqrt(mse)\n",
    "print('rmse: ', rmse)"
   ]
  },
  {
   "cell_type": "code",
   "execution_count": 37,
   "metadata": {},
   "outputs": [
    {
     "name": "stdout",
     "output_type": "stream",
     "text": [
      "Accuracy Score: 0.0\n",
      "Mean absolute error:  76.81117318435754\n",
      "rmse:  191.01758086918943\n"
     ]
    }
   ],
   "source": [
    "# Random forest classifier\n",
    "\n",
    "#train\n",
    "clf = clf.fit(X_Strain,y_Strain) \n",
    "\n",
    "#prediction\n",
    "y_SPred = clf.predict(X_Stest)\n",
    "\n",
    "#Accuracy\n",
    "print('Accuracy Score:', metrics.accuracy_score(y_Stest, y_SPred))\n",
    "print('Mean absolute error: ', metrics.mean_absolute_error(y_Stest, y_SPred))\n",
    "\n",
    "#rmse\n",
    "mse =np.square(np.subtract(y_Stest, y_SPred)).mean()\n",
    "rmse = math.sqrt(mse)\n",
    "print('rmse: ', rmse)"
   ]
  },
  {
   "cell_type": "markdown",
   "metadata": {},
   "source": [
    "Our assumption was confirmed, we therefore can conclude that ensemble models cannot be used for our stock prediction uaing macroheadlines problem"
   ]
  },
  {
   "cell_type": "markdown",
   "metadata": {},
   "source": [
    "### LINEAR MODELS\n",
    "\n",
    "<h4>LINEAR REGRESSION</h4>"
   ]
  },
  {
   "cell_type": "code",
   "execution_count": 38,
   "metadata": {},
   "outputs": [
    {
     "data": {
      "text/plain": [
       "array([[2.020000e+03, 1.000000e+00, 1.000000e+00, ..., 7.515000e+01,\n",
       "        7.379750e+01, 6.000000e+00],\n",
       "       [2.020000e+03, 1.000000e+00, 1.000000e+00, ..., 1.607300e+02,\n",
       "        1.583300e+02, 6.000000e+00],\n",
       "       [2.020000e+03, 1.000000e+00, 1.000000e+00, ..., 8.613910e+01,\n",
       "        8.434200e+01, 6.000000e+00],\n",
       "       ...,\n",
       "       [2.021000e+03, 9.000000e+00, 2.000000e+01, ..., 2.730000e+02,\n",
       "        2.656800e+02, 1.000000e+00],\n",
       "       [2.021000e+03, 9.000000e+00, 2.100000e+01, ..., 2.142500e+02,\n",
       "        2.095000e+02, 5.000000e+00],\n",
       "       [2.021000e+03, 9.000000e+00, 2.100000e+01, ..., 2.722986e+02,\n",
       "        2.678000e+02, 5.000000e+00]])"
      ]
     },
     "execution_count": 38,
     "metadata": {},
     "output_type": "execute_result"
    }
   ],
   "source": [
    "\n",
    "from sklearn.linear_model import LinearRegression\n",
    "\n",
    "# X_lin = X\n",
    "# y_lin = y\n",
    "X_reg = df.drop('Close', axis = 1).values\n",
    "y_reg = df.Close.values\n",
    "\n",
    "regEnc = LabelEncoder()\n",
    "X_reg[:, -1] = regEnc.fit_transform(X_reg[:, -1]) #Day_of_week\n",
    "\n",
    "X_reg[:, 3] = regEnc.fit_transform(X_reg[:, 3]) #stockName\n",
    "\n",
    "X_reg = X.astype('float')\n",
    "X_reg\n",
    "# le = preprocessing.LabelEncoder()\n",
    "# for i in range(*NUMBER OF FEATURES*):\n",
    "#     myData[:,i] = le.fit_transform(myData[:,i])"
   ]
  },
  {
   "cell_type": "code",
   "execution_count": 39,
   "metadata": {},
   "outputs": [],
   "source": [
    "# split the data\n",
    "X_Ltrain, X_Ltest, y_Ltrain, y_Ltest =  train_test_split(X_reg,y_reg, test_size = 0.3, random_state= 0)"
   ]
  },
  {
   "cell_type": "code",
   "execution_count": 40,
   "metadata": {},
   "outputs": [],
   "source": [
    "reg = LinearRegression()\n",
    "#Train the model using the training sets y_pred=reg.predict(X_test)\n",
    "reg = reg.fit(X_Ltrain,y_Ltrain)\n",
    "\n"
   ]
  },
  {
   "cell_type": "code",
   "execution_count": 41,
   "metadata": {},
   "outputs": [],
   "source": [
    "y_Lpred=reg.predict(X_Ltest)"
   ]
  },
  {
   "cell_type": "code",
   "execution_count": 42,
   "metadata": {},
   "outputs": [
    {
     "name": "stdout",
     "output_type": "stream",
     "text": [
      "rmse:  4.091236928949358\n"
     ]
    }
   ],
   "source": [
    "#rmse\n",
    "mse =np.square(np.subtract(y_Ltest, y_Lpred)).mean()\n",
    "rmse = math.sqrt(mse)\n",
    "print('rmse: ', rmse)"
   ]
  },
  {
   "cell_type": "code",
   "execution_count": 43,
   "metadata": {},
   "outputs": [
    {
     "name": "stdout",
     "output_type": "stream",
     "text": [
      "Mean absolute error:  2.1170349464900995\n"
     ]
    }
   ],
   "source": [
    "#Accuracy\n",
    "print('Mean absolute error: ', metrics.mean_absolute_error(y_Ltest, y_Lpred))\n"
   ]
  },
  {
   "cell_type": "markdown",
   "metadata": {},
   "source": [
    "<p> the rmse and mean absolute error for linear regression is favourable"
   ]
  },
  {
   "cell_type": "markdown",
   "metadata": {},
   "source": [
    "<h4>LOGISTIC REGRESSION</h4>"
   ]
  },
  {
   "cell_type": "code",
   "execution_count": 44,
   "metadata": {},
   "outputs": [
    {
     "name": "stderr",
     "output_type": "stream",
     "text": [
      "C:\\Users\\ANEFU PETER\\anaconda3\\lib\\site-packages\\sklearn\\linear_model\\_logistic.py:762: ConvergenceWarning: lbfgs failed to converge (status=1):\n",
      "STOP: TOTAL NO. of ITERATIONS REACHED LIMIT.\n",
      "\n",
      "Increase the number of iterations (max_iter) or scale the data as shown in:\n",
      "    https://scikit-learn.org/stable/modules/preprocessing.html\n",
      "Please also refer to the documentation for alternative solver options:\n",
      "    https://scikit-learn.org/stable/modules/linear_model.html#logistic-regression\n",
      "  n_iter_i = _check_optimize_result(\n"
     ]
    }
   ],
   "source": [
    "from sklearn.linear_model import LogisticRegression\n",
    "\n",
    "y_Ltrain = y_Ltrain.astype('int')\n",
    "\n",
    "log = LogisticRegression().fit(X_Ltrain,y_Ltrain)\n"
   ]
  },
  {
   "cell_type": "code",
   "execution_count": 45,
   "metadata": {},
   "outputs": [],
   "source": [
    "y_Lpred=reg.predict(X_Ltest)"
   ]
  },
  {
   "cell_type": "code",
   "execution_count": 46,
   "metadata": {},
   "outputs": [
    {
     "name": "stdout",
     "output_type": "stream",
     "text": [
      "rmse:  4.091236928949358\n"
     ]
    }
   ],
   "source": [
    "#rmse\n",
    "mse =np.square(np.subtract(y_Ltest, y_Lpred)).mean()\n",
    "rmse = math.sqrt(mse)\n",
    "print('rmse: ', rmse)"
   ]
  },
  {
   "cell_type": "code",
   "execution_count": 47,
   "metadata": {},
   "outputs": [
    {
     "name": "stdout",
     "output_type": "stream",
     "text": [
      "Mean absolute error:  2.1170349464900995\n"
     ]
    }
   ],
   "source": [
    "#Accuracy\n",
    "print('Mean absolute error: ', metrics.mean_absolute_error(y_Ltest, y_Lpred))"
   ]
  },
  {
   "cell_type": "markdown",
   "metadata": {},
   "source": [
    "<h4>BASELINE MODEL</h4>\n",
    "\n",
    "<p> The baseline for this problem is the mean of the Close price because this is a regression problem"
   ]
  },
  {
   "cell_type": "code",
   "execution_count": 48,
   "metadata": {},
   "outputs": [
    {
     "name": "stdout",
     "output_type": "stream",
     "text": [
      "The mean of the total Close price:  225.88485355347973\n",
      "The mean of the training data:  228.4243295019157\n",
      "The mean of the testing data:  218.79507570783238\n"
     ]
    }
   ],
   "source": [
    "print('The mean of the total Close price: ', y_reg.mean())\n",
    "print('The mean of the training data: ', y_Ltrain.mean())\n",
    "print('The mean of the testing data: ', y_Ltest.mean())"
   ]
  },
  {
   "cell_type": "code",
   "execution_count": 49,
   "metadata": {},
   "outputs": [],
   "source": [
    "import numpy as np\n",
    "\n",
    "pred = [y_Ltest.mean()] * len(y_Ltest)\n",
    "pred = np.array(pred, dtype=np.float32)\n",
    "# pred"
   ]
  },
  {
   "cell_type": "code",
   "execution_count": 50,
   "metadata": {},
   "outputs": [
    {
     "name": "stdout",
     "output_type": "stream",
     "text": [
      "rmse:  164.50794765428228\n"
     ]
    }
   ],
   "source": [
    "#rmse\n",
    "mse =np.square(np.subtract(y_Ltest, pred)).mean()\n",
    "rmse = math.sqrt(mse)\n",
    "print('rmse: ', rmse)\n"
   ]
  },
  {
   "cell_type": "code",
   "execution_count": 51,
   "metadata": {},
   "outputs": [
    {
     "name": "stdout",
     "output_type": "stream",
     "text": [
      "Mean absolute error:  108.91560112694545\n"
     ]
    }
   ],
   "source": [
    "\n",
    "#Accuracy\n",
    "print('Mean absolute error: ', metrics.mean_absolute_error(y_Ltest, pred))"
   ]
  },
  {
   "cell_type": "markdown",
   "metadata": {},
   "source": [
    "<h5>INFERENCE</h5>\n",
    "\n",
    "The RMSE and accuracy scores of Linear and Logistic regression are the same. We can safely say the Linear Regression is the safest model as this is a regression problem with continuous value for our response variable, Close. Baseline algorithms have not performed well on this dataset."
   ]
  },
  {
   "cell_type": "markdown",
   "metadata": {},
   "source": [
    "### MODELS FOR CLASSIFICATION AND REGRESSION PROBLEMS\n",
    "<h4>KNN<h4/>"
   ]
  },
  {
   "cell_type": "code",
   "execution_count": 52,
   "metadata": {},
   "outputs": [],
   "source": [
    "#importing libraries\n",
    "from sklearn import neighbors\n",
    "from sklearn.model_selection import GridSearchCV"
   ]
  },
  {
   "cell_type": "code",
   "execution_count": 53,
   "metadata": {},
   "outputs": [],
   "source": [
    "#using gridsearch to find the best parameter\n",
    "params = {'n_neighbors':[2,3,4,5,6,7,8,9]}\n",
    "knn = neighbors.KNeighborsRegressor()\n",
    "model = GridSearchCV(knn, params, cv=5)\n",
    "\n",
    "#fit the model and make predictions\n",
    "model.fit(X_Ltrain,y_Ltrain)\n",
    "preds = model.predict(X_Ltest)"
   ]
  },
  {
   "cell_type": "code",
   "execution_count": 54,
   "metadata": {},
   "outputs": [
    {
     "name": "stdout",
     "output_type": "stream",
     "text": [
      "rmse:  158.73371395152603\n"
     ]
    }
   ],
   "source": [
    "#rmse\n",
    "mse =np.square(np.subtract(y_Ltest, preds)).mean()\n",
    "rmse = math.sqrt(mse)\n",
    "print('rmse: ', rmse)\n"
   ]
  },
  {
   "cell_type": "code",
   "execution_count": 55,
   "metadata": {},
   "outputs": [
    {
     "name": "stdout",
     "output_type": "stream",
     "text": [
      "Mean absolute error:  107.0468028768231\n"
     ]
    }
   ],
   "source": [
    "\n",
    "#Accuracy\n",
    "print('Mean absolute error: ', metrics.mean_absolute_error(y_Ltest, preds))"
   ]
  },
  {
   "cell_type": "markdown",
   "metadata": {},
   "source": [
    "<h5>INFERENCE</h5>\n",
    "\n",
    "The RMSE values of KNN and Baseline are similar. We can safely say that KNN and Baseline algorithms have not performed well on this dataset."
   ]
  },
  {
   "cell_type": "markdown",
   "metadata": {},
   "source": [
    "<h4>LONG SHORT TERM MEMORY<h4/>"
   ]
  },
  {
   "cell_type": "code",
   "execution_count": 56,
   "metadata": {},
   "outputs": [],
   "source": [
    "#RECALL\n",
    "\n",
    "# X_reg = df.drop('Close', axis = 1).values \"\"\"Independent\"\"\"\n",
    "# y_reg = df.Close.values \"\"\"Dependent\"\"\"\n",
    "# y_reg"
   ]
  },
  {
   "cell_type": "code",
   "execution_count": 57,
   "metadata": {},
   "outputs": [],
   "source": [
    "#importing required libraries\n",
    "from sklearn.preprocessing import MinMaxScaler #LSTMs are sensitive to the scale of the input data\n",
    "from keras.models import Sequential\n",
    "from keras.layers import Dense, Dropout, LSTM"
   ]
  },
  {
   "cell_type": "code",
   "execution_count": 58,
   "metadata": {},
   "outputs": [],
   "source": [
    "#converting dataset into x_train and y_train\n",
    "scaler = MinMaxScaler(feature_range=(0, 1))\n",
    "X_Ltrain = scaler.fit_transform(X_Ltrain)"
   ]
  },
  {
   "cell_type": "code",
   "execution_count": 59,
   "metadata": {},
   "outputs": [],
   "source": [
    "# # create and fit the LSTM network\n",
    "# model = Sequential()\n",
    "# model.add(LSTM(units=50, return_sequences=True, input_shape=(X_Ltrain.shape[1],1)))\n",
    "# model.add(LSTM(units=50))\n",
    "# model.add(Dense(1))\n",
    "\n",
    "# model.compile(loss='mean_squared_error', optimizer='adam')\n",
    "# model.fit(X_Ltrain, y_Ltrain, epochs=1, batch_size=1, verbose=2)"
   ]
  },
  {
   "cell_type": "markdown",
   "metadata": {},
   "source": [
    "## CORRECTION FROM MENTOR"
   ]
  },
  {
   "cell_type": "code",
   "execution_count": 60,
   "metadata": {},
   "outputs": [],
   "source": [
    "df2 = df"
   ]
  },
  {
   "cell_type": "code",
   "execution_count": 61,
   "metadata": {},
   "outputs": [
    {
     "data": {
      "text/html": [
       "<div>\n",
       "<style scoped>\n",
       "    .dataframe tbody tr th:only-of-type {\n",
       "        vertical-align: middle;\n",
       "    }\n",
       "\n",
       "    .dataframe tbody tr th {\n",
       "        vertical-align: top;\n",
       "    }\n",
       "\n",
       "    .dataframe thead th {\n",
       "        text-align: right;\n",
       "    }\n",
       "</style>\n",
       "<table border=\"1\" class=\"dataframe\">\n",
       "  <thead>\n",
       "    <tr style=\"text-align: right;\">\n",
       "      <th></th>\n",
       "      <th>Year</th>\n",
       "      <th>Month</th>\n",
       "      <th>Day</th>\n",
       "      <th>StockName</th>\n",
       "      <th>Positive</th>\n",
       "      <th>Negative</th>\n",
       "      <th>Neutral</th>\n",
       "      <th>Total Tweets</th>\n",
       "      <th>Close</th>\n",
       "      <th>Volume</th>\n",
       "      <th>Open</th>\n",
       "      <th>High</th>\n",
       "      <th>Low</th>\n",
       "      <th>Day_of_week</th>\n",
       "    </tr>\n",
       "  </thead>\n",
       "  <tbody>\n",
       "    <tr>\n",
       "      <th>0</th>\n",
       "      <td>2020</td>\n",
       "      <td>1</td>\n",
       "      <td>1</td>\n",
       "      <td>apple</td>\n",
       "      <td>10</td>\n",
       "      <td>2</td>\n",
       "      <td>8</td>\n",
       "      <td>20</td>\n",
       "      <td>75.0875</td>\n",
       "      <td>135647440.0</td>\n",
       "      <td>74.0600</td>\n",
       "      <td>75.1500</td>\n",
       "      <td>73.7975</td>\n",
       "      <td>Wednesday</td>\n",
       "    </tr>\n",
       "    <tr>\n",
       "      <th>1</th>\n",
       "      <td>2020</td>\n",
       "      <td>1</td>\n",
       "      <td>1</td>\n",
       "      <td>microsoft</td>\n",
       "      <td>9</td>\n",
       "      <td>0</td>\n",
       "      <td>11</td>\n",
       "      <td>20</td>\n",
       "      <td>160.6200</td>\n",
       "      <td>22634550.0</td>\n",
       "      <td>158.7800</td>\n",
       "      <td>160.7300</td>\n",
       "      <td>158.3300</td>\n",
       "      <td>Wednesday</td>\n",
       "    </tr>\n",
       "    <tr>\n",
       "      <th>2</th>\n",
       "      <td>2020</td>\n",
       "      <td>1</td>\n",
       "      <td>1</td>\n",
       "      <td>tesla</td>\n",
       "      <td>17</td>\n",
       "      <td>3</td>\n",
       "      <td>3</td>\n",
       "      <td>23</td>\n",
       "      <td>86.0520</td>\n",
       "      <td>47791930.0</td>\n",
       "      <td>84.9000</td>\n",
       "      <td>86.1391</td>\n",
       "      <td>84.3420</td>\n",
       "      <td>Wednesday</td>\n",
       "    </tr>\n",
       "    <tr>\n",
       "      <th>3</th>\n",
       "      <td>2020</td>\n",
       "      <td>1</td>\n",
       "      <td>1</td>\n",
       "      <td>nvidia</td>\n",
       "      <td>1</td>\n",
       "      <td>0</td>\n",
       "      <td>0</td>\n",
       "      <td>1</td>\n",
       "      <td>59.9775</td>\n",
       "      <td>23767876.0</td>\n",
       "      <td>59.6875</td>\n",
       "      <td>59.9775</td>\n",
       "      <td>59.1800</td>\n",
       "      <td>Wednesday</td>\n",
       "    </tr>\n",
       "    <tr>\n",
       "      <th>4</th>\n",
       "      <td>2020</td>\n",
       "      <td>1</td>\n",
       "      <td>1</td>\n",
       "      <td>paypal</td>\n",
       "      <td>1</td>\n",
       "      <td>0</td>\n",
       "      <td>1</td>\n",
       "      <td>2</td>\n",
       "      <td>110.7500</td>\n",
       "      <td>7419283.0</td>\n",
       "      <td>109.4700</td>\n",
       "      <td>111.2100</td>\n",
       "      <td>109.2750</td>\n",
       "      <td>Wednesday</td>\n",
       "    </tr>\n",
       "  </tbody>\n",
       "</table>\n",
       "</div>"
      ],
      "text/plain": [
       "   Year  Month  Day  StockName  Positive  Negative  Neutral  Total Tweets  \\\n",
       "0  2020      1    1      apple        10         2        8            20   \n",
       "1  2020      1    1  microsoft         9         0       11            20   \n",
       "2  2020      1    1      tesla        17         3        3            23   \n",
       "3  2020      1    1     nvidia         1         0        0             1   \n",
       "4  2020      1    1     paypal         1         0        1             2   \n",
       "\n",
       "      Close       Volume      Open      High       Low Day_of_week  \n",
       "0   75.0875  135647440.0   74.0600   75.1500   73.7975   Wednesday  \n",
       "1  160.6200   22634550.0  158.7800  160.7300  158.3300   Wednesday  \n",
       "2   86.0520   47791930.0   84.9000   86.1391   84.3420   Wednesday  \n",
       "3   59.9775   23767876.0   59.6875   59.9775   59.1800   Wednesday  \n",
       "4  110.7500    7419283.0  109.4700  111.2100  109.2750   Wednesday  "
      ]
     },
     "execution_count": 61,
     "metadata": {},
     "output_type": "execute_result"
    }
   ],
   "source": [
    "df2.head()"
   ]
  },
  {
   "cell_type": "code",
   "execution_count": 62,
   "metadata": {},
   "outputs": [],
   "source": [
    "Date = ['Year', 'Month','Day']\n",
    "df2.sort_values(by = Date, inplace = True, ascending = True)"
   ]
  },
  {
   "cell_type": "code",
   "execution_count": 63,
   "metadata": {},
   "outputs": [
    {
     "data": {
      "text/html": [
       "<div>\n",
       "<style scoped>\n",
       "    .dataframe tbody tr th:only-of-type {\n",
       "        vertical-align: middle;\n",
       "    }\n",
       "\n",
       "    .dataframe tbody tr th {\n",
       "        vertical-align: top;\n",
       "    }\n",
       "\n",
       "    .dataframe thead th {\n",
       "        text-align: right;\n",
       "    }\n",
       "</style>\n",
       "<table border=\"1\" class=\"dataframe\">\n",
       "  <thead>\n",
       "    <tr style=\"text-align: right;\">\n",
       "      <th></th>\n",
       "      <th>Year</th>\n",
       "      <th>Month</th>\n",
       "      <th>Day</th>\n",
       "      <th>StockName</th>\n",
       "      <th>Positive</th>\n",
       "      <th>Negative</th>\n",
       "      <th>Neutral</th>\n",
       "      <th>Total Tweets</th>\n",
       "      <th>Close</th>\n",
       "      <th>Volume</th>\n",
       "      <th>Open</th>\n",
       "      <th>High</th>\n",
       "      <th>Low</th>\n",
       "      <th>Day_of_week</th>\n",
       "    </tr>\n",
       "  </thead>\n",
       "  <tbody>\n",
       "    <tr>\n",
       "      <th>0</th>\n",
       "      <td>2020</td>\n",
       "      <td>1</td>\n",
       "      <td>1</td>\n",
       "      <td>apple</td>\n",
       "      <td>10</td>\n",
       "      <td>2</td>\n",
       "      <td>8</td>\n",
       "      <td>20</td>\n",
       "      <td>75.0875</td>\n",
       "      <td>135647440.0</td>\n",
       "      <td>74.0600</td>\n",
       "      <td>75.1500</td>\n",
       "      <td>73.7975</td>\n",
       "      <td>Wednesday</td>\n",
       "    </tr>\n",
       "    <tr>\n",
       "      <th>1</th>\n",
       "      <td>2020</td>\n",
       "      <td>1</td>\n",
       "      <td>1</td>\n",
       "      <td>microsoft</td>\n",
       "      <td>9</td>\n",
       "      <td>0</td>\n",
       "      <td>11</td>\n",
       "      <td>20</td>\n",
       "      <td>160.6200</td>\n",
       "      <td>22634550.0</td>\n",
       "      <td>158.7800</td>\n",
       "      <td>160.7300</td>\n",
       "      <td>158.3300</td>\n",
       "      <td>Wednesday</td>\n",
       "    </tr>\n",
       "    <tr>\n",
       "      <th>2</th>\n",
       "      <td>2020</td>\n",
       "      <td>1</td>\n",
       "      <td>1</td>\n",
       "      <td>tesla</td>\n",
       "      <td>17</td>\n",
       "      <td>3</td>\n",
       "      <td>3</td>\n",
       "      <td>23</td>\n",
       "      <td>86.0520</td>\n",
       "      <td>47791930.0</td>\n",
       "      <td>84.9000</td>\n",
       "      <td>86.1391</td>\n",
       "      <td>84.3420</td>\n",
       "      <td>Wednesday</td>\n",
       "    </tr>\n",
       "    <tr>\n",
       "      <th>3</th>\n",
       "      <td>2020</td>\n",
       "      <td>1</td>\n",
       "      <td>1</td>\n",
       "      <td>nvidia</td>\n",
       "      <td>1</td>\n",
       "      <td>0</td>\n",
       "      <td>0</td>\n",
       "      <td>1</td>\n",
       "      <td>59.9775</td>\n",
       "      <td>23767876.0</td>\n",
       "      <td>59.6875</td>\n",
       "      <td>59.9775</td>\n",
       "      <td>59.1800</td>\n",
       "      <td>Wednesday</td>\n",
       "    </tr>\n",
       "    <tr>\n",
       "      <th>4</th>\n",
       "      <td>2020</td>\n",
       "      <td>1</td>\n",
       "      <td>1</td>\n",
       "      <td>paypal</td>\n",
       "      <td>1</td>\n",
       "      <td>0</td>\n",
       "      <td>1</td>\n",
       "      <td>2</td>\n",
       "      <td>110.7500</td>\n",
       "      <td>7419283.0</td>\n",
       "      <td>109.4700</td>\n",
       "      <td>111.2100</td>\n",
       "      <td>109.2750</td>\n",
       "      <td>Wednesday</td>\n",
       "    </tr>\n",
       "  </tbody>\n",
       "</table>\n",
       "</div>"
      ],
      "text/plain": [
       "   Year  Month  Day  StockName  Positive  Negative  Neutral  Total Tweets  \\\n",
       "0  2020      1    1      apple        10         2        8            20   \n",
       "1  2020      1    1  microsoft         9         0       11            20   \n",
       "2  2020      1    1      tesla        17         3        3            23   \n",
       "3  2020      1    1     nvidia         1         0        0             1   \n",
       "4  2020      1    1     paypal         1         0        1             2   \n",
       "\n",
       "      Close       Volume      Open      High       Low Day_of_week  \n",
       "0   75.0875  135647440.0   74.0600   75.1500   73.7975   Wednesday  \n",
       "1  160.6200   22634550.0  158.7800  160.7300  158.3300   Wednesday  \n",
       "2   86.0520   47791930.0   84.9000   86.1391   84.3420   Wednesday  \n",
       "3   59.9775   23767876.0   59.6875   59.9775   59.1800   Wednesday  \n",
       "4  110.7500    7419283.0  109.4700  111.2100  109.2750   Wednesday  "
      ]
     },
     "execution_count": 63,
     "metadata": {},
     "output_type": "execute_result"
    }
   ],
   "source": [
    "df2.head()"
   ]
  },
  {
   "cell_type": "code",
   "execution_count": 64,
   "metadata": {},
   "outputs": [],
   "source": [
    "# seperate independent vs dependent vriables\n",
    "\n",
    "X_reg2 = df2.drop('Close', axis = 1).values\n",
    "y_reg2 = df2.Close.values"
   ]
  },
  {
   "cell_type": "code",
   "execution_count": null,
   "metadata": {},
   "outputs": [],
   "source": []
  },
  {
   "cell_type": "code",
   "execution_count": 65,
   "metadata": {},
   "outputs": [],
   "source": [
    "#LABEL ENCODE\n",
    "\n",
    "X_reg2[:, -1] = regEnc.fit_transform(X_reg2[:, -1]) #Day_of_week\n",
    "\n",
    "X_reg2[:, 3] = regEnc.fit_transform(X_reg2[:, 3]) #stockName"
   ]
  },
  {
   "cell_type": "code",
   "execution_count": 66,
   "metadata": {},
   "outputs": [],
   "source": [
    "# That makes the train_set with the first 70% of the data, and the test_set with rest 30% of the data.\n",
    "\n",
    "Xtrain_set, Xtest_set= np.split(X_reg2, [int(0.7 * len(X_reg2))])\n",
    "\n",
    "ytrain_set, ytest_set= np.split(y_reg2, [int(0.7 * len(y_reg2))])"
   ]
  },
  {
   "cell_type": "code",
   "execution_count": 67,
   "metadata": {},
   "outputs": [
    {
     "name": "stdout",
     "output_type": "stream",
     "text": [
      "X shapes for train and test are:  (2088, 13) (895, 13) respectively\n",
      "X shapes for train and test are:  (2088,) (895,) respectively\n"
     ]
    }
   ],
   "source": [
    "print('X shapes for train and test are: ',Xtrain_set.shape, Xtest_set.shape, 'respectively')\n",
    "print('X shapes for train and test are: ',ytrain_set.shape, ytest_set.shape, 'respectively')"
   ]
  },
  {
   "cell_type": "code",
   "execution_count": 68,
   "metadata": {},
   "outputs": [],
   "source": [
    "#reg = LinearRegression()\n",
    "\n",
    "reg = reg.fit(Xtrain_set,ytrain_set)\n",
    "\n"
   ]
  },
  {
   "cell_type": "code",
   "execution_count": 69,
   "metadata": {},
   "outputs": [],
   "source": [
    "y_Lpred = reg.predict(Xtest_set)"
   ]
  },
  {
   "cell_type": "code",
   "execution_count": 70,
   "metadata": {},
   "outputs": [
    {
     "name": "stdout",
     "output_type": "stream",
     "text": [
      "rmse:  3.8434612084616773\n"
     ]
    }
   ],
   "source": [
    "#rmse\n",
    "mse =np.square(np.subtract(ytest_set, y_Lpred)).mean()\n",
    "rmse = math.sqrt(mse)\n",
    "print('rmse: ', rmse)"
   ]
  },
  {
   "cell_type": "code",
   "execution_count": 71,
   "metadata": {},
   "outputs": [
    {
     "name": "stdout",
     "output_type": "stream",
     "text": [
      "Mean absolute error:  2.2753985720851557\n"
     ]
    }
   ],
   "source": [
    "#Accuracy\n",
    "print('Mean absolute error: ', metrics.mean_absolute_error(ytest_set, y_Lpred))"
   ]
  },
  {
   "cell_type": "code",
   "execution_count": 72,
   "metadata": {},
   "outputs": [
    {
     "name": "stdout",
     "output_type": "stream",
     "text": [
      "The r2_score:  0.9996048345899842\n"
     ]
    }
   ],
   "source": [
    "#r2_score\n",
    "print('The r2_score: ', metrics.r2_score(ytest_set, y_Lpred))"
   ]
  },
  {
   "cell_type": "code",
   "execution_count": 80,
   "metadata": {},
   "outputs": [
    {
     "data": {
      "text/plain": [
       "(2088,)"
      ]
     },
     "execution_count": 80,
     "metadata": {},
     "output_type": "execute_result"
    }
   ],
   "source": [
    "ytrain_set.shape"
   ]
  },
  {
   "cell_type": "code",
   "execution_count": 91,
   "metadata": {},
   "outputs": [],
   "source": [
    "import matplotlib.pyplot as plt\n",
    "\n"
   ]
  },
  {
   "cell_type": "code",
   "execution_count": 94,
   "metadata": {},
   "outputs": [
    {
     "data": {
      "text/html": [
       "<div>\n",
       "<style scoped>\n",
       "    .dataframe tbody tr th:only-of-type {\n",
       "        vertical-align: middle;\n",
       "    }\n",
       "\n",
       "    .dataframe tbody tr th {\n",
       "        vertical-align: top;\n",
       "    }\n",
       "\n",
       "    .dataframe thead th {\n",
       "        text-align: right;\n",
       "    }\n",
       "</style>\n",
       "<table border=\"1\" class=\"dataframe\">\n",
       "  <thead>\n",
       "    <tr style=\"text-align: right;\">\n",
       "      <th></th>\n",
       "      <th>Actual</th>\n",
       "      <th>Predicted</th>\n",
       "    </tr>\n",
       "  </thead>\n",
       "  <tbody>\n",
       "    <tr>\n",
       "      <th>0</th>\n",
       "      <td>130.7075</td>\n",
       "      <td>131.253632</td>\n",
       "    </tr>\n",
       "    <tr>\n",
       "      <th>1</th>\n",
       "      <td>243.7700</td>\n",
       "      <td>245.148496</td>\n",
       "    </tr>\n",
       "    <tr>\n",
       "      <th>2</th>\n",
       "      <td>120.0900</td>\n",
       "      <td>120.197140</td>\n",
       "    </tr>\n",
       "    <tr>\n",
       "      <th>3</th>\n",
       "      <td>235.4600</td>\n",
       "      <td>236.544594</td>\n",
       "    </tr>\n",
       "    <tr>\n",
       "      <th>4</th>\n",
       "      <td>630.2700</td>\n",
       "      <td>645.052228</td>\n",
       "    </tr>\n",
       "    <tr>\n",
       "      <th>...</th>\n",
       "      <td>...</td>\n",
       "      <td>...</td>\n",
       "    </tr>\n",
       "    <tr>\n",
       "      <th>890</th>\n",
       "      <td>730.1700</td>\n",
       "      <td>733.904666</td>\n",
       "    </tr>\n",
       "    <tr>\n",
       "      <th>891</th>\n",
       "      <td>211.1300</td>\n",
       "      <td>210.612955</td>\n",
       "    </tr>\n",
       "    <tr>\n",
       "      <th>892</th>\n",
       "      <td>269.9100</td>\n",
       "      <td>270.243463</td>\n",
       "    </tr>\n",
       "    <tr>\n",
       "      <th>893</th>\n",
       "      <td>212.4600</td>\n",
       "      <td>211.978678</td>\n",
       "    </tr>\n",
       "    <tr>\n",
       "      <th>894</th>\n",
       "      <td>269.4900</td>\n",
       "      <td>271.484143</td>\n",
       "    </tr>\n",
       "  </tbody>\n",
       "</table>\n",
       "<p>895 rows × 2 columns</p>\n",
       "</div>"
      ],
      "text/plain": [
       "       Actual   Predicted\n",
       "0    130.7075  131.253632\n",
       "1    243.7700  245.148496\n",
       "2    120.0900  120.197140\n",
       "3    235.4600  236.544594\n",
       "4    630.2700  645.052228\n",
       "..        ...         ...\n",
       "890  730.1700  733.904666\n",
       "891  211.1300  210.612955\n",
       "892  269.9100  270.243463\n",
       "893  212.4600  211.978678\n",
       "894  269.4900  271.484143\n",
       "\n",
       "[895 rows x 2 columns]"
      ]
     },
     "execution_count": 94,
     "metadata": {},
     "output_type": "execute_result"
    }
   ],
   "source": [
    "result = pd.DataFrame({'Actual': ytest_set.flatten(), 'Predicted': y_Lpred.flatten()})\n",
    "result"
   ]
  },
  {
   "cell_type": "code",
   "execution_count": 106,
   "metadata": {},
   "outputs": [
    {
     "data": {
      "image/png": "[encoded data removed]",
      "text/plain": [
       "<Figure size 1152x720 with 1 Axes>"
      ]
     },
     "metadata": {
      "needs_background": "light"
     },
     "output_type": "display_data"
    }
   ],
   "source": [
    "result2 = result.head(10)\n",
    "result2.plot(kind='bar',figsize=(16,10))\n",
    "plt.grid(which='major', linestyle='-', linewidth='0.5', color='green')\n",
    "plt.grid(which='minor', linestyle=':', linewidth='0.5', color='black')\n",
    "plt.show()"
   ]
  },
  {
   "cell_type": "code",
   "execution_count": null,
   "metadata": {},
   "outputs": [],
   "source": []
  }
 ],
 "metadata": {
  "kernelspec": {
   "display_name": "Python 3",
   "language": "python",
   "name": "python3"
  },
  "language_info": {
   "codemirror_mode": {
    "name": "ipython",
    "version": 3
   },
   "file_extension": ".py",
   "mimetype": "text/x-python",
   "name": "python",
   "nbconvert_exporter": "python",
   "pygments_lexer": "ipython3",
   "version": "3.8.5"
  }
 },
 "nbformat": 4,
 "nbformat_minor": 4
}
