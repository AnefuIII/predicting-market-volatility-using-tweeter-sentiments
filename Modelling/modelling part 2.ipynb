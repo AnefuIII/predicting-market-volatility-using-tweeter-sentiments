{
 "cells": [
  {
   "cell_type": "markdown",
   "metadata": {},
   "source": [
    "#  MODELLING  "
   ]
  },
  {
   "cell_type": "code",
   "execution_count": 1,
   "metadata": {},
   "outputs": [],
   "source": [
    "import pandas as pd\n",
    "import numpy as np\n",
    "import matplotlib.pyplot as plt\n",
    "import math"
   ]
  },
  {
   "cell_type": "code",
   "execution_count": 2,
   "metadata": {},
   "outputs": [
    {
     "data": {
      "text/html": [
       "<div>\n",
       "<style scoped>\n",
       "    .dataframe tbody tr th:only-of-type {\n",
       "        vertical-align: middle;\n",
       "    }\n",
       "\n",
       "    .dataframe tbody tr th {\n",
       "        vertical-align: top;\n",
       "    }\n",
       "\n",
       "    .dataframe thead th {\n",
       "        text-align: right;\n",
       "    }\n",
       "</style>\n",
       "<table border=\"1\" class=\"dataframe\">\n",
       "  <thead>\n",
       "    <tr style=\"text-align: right;\">\n",
       "      <th></th>\n",
       "      <th>Year</th>\n",
       "      <th>Month</th>\n",
       "      <th>Day</th>\n",
       "      <th>StockName</th>\n",
       "      <th>Positive</th>\n",
       "      <th>Negative</th>\n",
       "      <th>Neutral</th>\n",
       "      <th>Total Tweets</th>\n",
       "      <th>Close</th>\n",
       "      <th>Volume</th>\n",
       "      <th>Open</th>\n",
       "      <th>High</th>\n",
       "      <th>Low</th>\n",
       "      <th>Day_of_week</th>\n",
       "    </tr>\n",
       "  </thead>\n",
       "  <tbody>\n",
       "    <tr>\n",
       "      <th>0</th>\n",
       "      <td>2020</td>\n",
       "      <td>1</td>\n",
       "      <td>1</td>\n",
       "      <td>apple</td>\n",
       "      <td>10</td>\n",
       "      <td>2</td>\n",
       "      <td>8</td>\n",
       "      <td>20</td>\n",
       "      <td>75.0875</td>\n",
       "      <td>135647440.0</td>\n",
       "      <td>74.0600</td>\n",
       "      <td>75.1500</td>\n",
       "      <td>73.7975</td>\n",
       "      <td>Wednesday</td>\n",
       "    </tr>\n",
       "    <tr>\n",
       "      <th>1</th>\n",
       "      <td>2020</td>\n",
       "      <td>1</td>\n",
       "      <td>1</td>\n",
       "      <td>microsoft</td>\n",
       "      <td>9</td>\n",
       "      <td>0</td>\n",
       "      <td>11</td>\n",
       "      <td>20</td>\n",
       "      <td>160.6200</td>\n",
       "      <td>22634550.0</td>\n",
       "      <td>158.7800</td>\n",
       "      <td>160.7300</td>\n",
       "      <td>158.3300</td>\n",
       "      <td>Wednesday</td>\n",
       "    </tr>\n",
       "    <tr>\n",
       "      <th>2</th>\n",
       "      <td>2020</td>\n",
       "      <td>1</td>\n",
       "      <td>1</td>\n",
       "      <td>tesla</td>\n",
       "      <td>17</td>\n",
       "      <td>3</td>\n",
       "      <td>3</td>\n",
       "      <td>23</td>\n",
       "      <td>86.0520</td>\n",
       "      <td>47791930.0</td>\n",
       "      <td>84.9000</td>\n",
       "      <td>86.1391</td>\n",
       "      <td>84.3420</td>\n",
       "      <td>Wednesday</td>\n",
       "    </tr>\n",
       "    <tr>\n",
       "      <th>3</th>\n",
       "      <td>2020</td>\n",
       "      <td>1</td>\n",
       "      <td>1</td>\n",
       "      <td>nvidia</td>\n",
       "      <td>1</td>\n",
       "      <td>0</td>\n",
       "      <td>0</td>\n",
       "      <td>1</td>\n",
       "      <td>59.9775</td>\n",
       "      <td>23767876.0</td>\n",
       "      <td>59.6875</td>\n",
       "      <td>59.9775</td>\n",
       "      <td>59.1800</td>\n",
       "      <td>Wednesday</td>\n",
       "    </tr>\n",
       "    <tr>\n",
       "      <th>4</th>\n",
       "      <td>2020</td>\n",
       "      <td>1</td>\n",
       "      <td>1</td>\n",
       "      <td>paypal</td>\n",
       "      <td>1</td>\n",
       "      <td>0</td>\n",
       "      <td>1</td>\n",
       "      <td>2</td>\n",
       "      <td>110.7500</td>\n",
       "      <td>7419283.0</td>\n",
       "      <td>109.4700</td>\n",
       "      <td>111.2100</td>\n",
       "      <td>109.2750</td>\n",
       "      <td>Wednesday</td>\n",
       "    </tr>\n",
       "  </tbody>\n",
       "</table>\n",
       "</div>"
      ],
      "text/plain": [
       "   Year  Month  Day  StockName  Positive  Negative  Neutral  Total Tweets  \\\n",
       "0  2020      1    1      apple        10         2        8            20   \n",
       "1  2020      1    1  microsoft         9         0       11            20   \n",
       "2  2020      1    1      tesla        17         3        3            23   \n",
       "3  2020      1    1     nvidia         1         0        0             1   \n",
       "4  2020      1    1     paypal         1         0        1             2   \n",
       "\n",
       "      Close       Volume      Open      High       Low Day_of_week  \n",
       "0   75.0875  135647440.0   74.0600   75.1500   73.7975   Wednesday  \n",
       "1  160.6200   22634550.0  158.7800  160.7300  158.3300   Wednesday  \n",
       "2   86.0520   47791930.0   84.9000   86.1391   84.3420   Wednesday  \n",
       "3   59.9775   23767876.0   59.6875   59.9775   59.1800   Wednesday  \n",
       "4  110.7500    7419283.0  109.4700  111.2100  109.2750   Wednesday  "
      ]
     },
     "execution_count": 2,
     "metadata": {},
     "output_type": "execute_result"
    }
   ],
   "source": [
    "df = pd.read_csv('Twitter_stock_final_dataset_new.csv')\n",
    "df.head()"
   ]
  },
  {
   "cell_type": "code",
   "execution_count": 3,
   "metadata": {},
   "outputs": [],
   "source": [
    "df2 = df"
   ]
  },
  {
   "cell_type": "code",
   "execution_count": 4,
   "metadata": {},
   "outputs": [],
   "source": [
    "Date = ['Year', 'Month','Day']\n",
    "df2.sort_values(by = Date, inplace = True, ascending = True)"
   ]
  },
  {
   "cell_type": "code",
   "execution_count": 5,
   "metadata": {},
   "outputs": [],
   "source": [
    "# seperate independent vs dependent vriables\n",
    "\n",
    "#cols = ['Close', 'High', 'Low', 'Volume','Open','Day_of_week']\n",
    "X_reg2 = df2.drop('Close', axis = 1).values\n",
    "y_reg2 = df2.Close.values"
   ]
  },
  {
   "cell_type": "code",
   "execution_count": 6,
   "metadata": {},
   "outputs": [
    {
     "data": {
      "text/html": [
       "<div>\n",
       "<style scoped>\n",
       "    .dataframe tbody tr th:only-of-type {\n",
       "        vertical-align: middle;\n",
       "    }\n",
       "\n",
       "    .dataframe tbody tr th {\n",
       "        vertical-align: top;\n",
       "    }\n",
       "\n",
       "    .dataframe thead th {\n",
       "        text-align: right;\n",
       "    }\n",
       "</style>\n",
       "<table border=\"1\" class=\"dataframe\">\n",
       "  <thead>\n",
       "    <tr style=\"text-align: right;\">\n",
       "      <th></th>\n",
       "      <th>0</th>\n",
       "      <th>1</th>\n",
       "      <th>2</th>\n",
       "      <th>3</th>\n",
       "      <th>4</th>\n",
       "      <th>5</th>\n",
       "      <th>6</th>\n",
       "      <th>7</th>\n",
       "      <th>8</th>\n",
       "      <th>9</th>\n",
       "      <th>10</th>\n",
       "      <th>11</th>\n",
       "      <th>12</th>\n",
       "    </tr>\n",
       "  </thead>\n",
       "  <tbody>\n",
       "    <tr>\n",
       "      <th>0</th>\n",
       "      <td>2020</td>\n",
       "      <td>1</td>\n",
       "      <td>1</td>\n",
       "      <td>apple</td>\n",
       "      <td>10</td>\n",
       "      <td>2</td>\n",
       "      <td>8</td>\n",
       "      <td>20</td>\n",
       "      <td>135647440.0</td>\n",
       "      <td>74.06</td>\n",
       "      <td>75.15</td>\n",
       "      <td>73.7975</td>\n",
       "      <td>Wednesday</td>\n",
       "    </tr>\n",
       "    <tr>\n",
       "      <th>1</th>\n",
       "      <td>2020</td>\n",
       "      <td>1</td>\n",
       "      <td>1</td>\n",
       "      <td>microsoft</td>\n",
       "      <td>9</td>\n",
       "      <td>0</td>\n",
       "      <td>11</td>\n",
       "      <td>20</td>\n",
       "      <td>22634550.0</td>\n",
       "      <td>158.78</td>\n",
       "      <td>160.73</td>\n",
       "      <td>158.33</td>\n",
       "      <td>Wednesday</td>\n",
       "    </tr>\n",
       "    <tr>\n",
       "      <th>2</th>\n",
       "      <td>2020</td>\n",
       "      <td>1</td>\n",
       "      <td>1</td>\n",
       "      <td>tesla</td>\n",
       "      <td>17</td>\n",
       "      <td>3</td>\n",
       "      <td>3</td>\n",
       "      <td>23</td>\n",
       "      <td>47791930.0</td>\n",
       "      <td>84.9</td>\n",
       "      <td>86.1391</td>\n",
       "      <td>84.342</td>\n",
       "      <td>Wednesday</td>\n",
       "    </tr>\n",
       "    <tr>\n",
       "      <th>3</th>\n",
       "      <td>2020</td>\n",
       "      <td>1</td>\n",
       "      <td>1</td>\n",
       "      <td>nvidia</td>\n",
       "      <td>1</td>\n",
       "      <td>0</td>\n",
       "      <td>0</td>\n",
       "      <td>1</td>\n",
       "      <td>23767876.0</td>\n",
       "      <td>59.6875</td>\n",
       "      <td>59.9775</td>\n",
       "      <td>59.18</td>\n",
       "      <td>Wednesday</td>\n",
       "    </tr>\n",
       "    <tr>\n",
       "      <th>4</th>\n",
       "      <td>2020</td>\n",
       "      <td>1</td>\n",
       "      <td>1</td>\n",
       "      <td>paypal</td>\n",
       "      <td>1</td>\n",
       "      <td>0</td>\n",
       "      <td>1</td>\n",
       "      <td>2</td>\n",
       "      <td>7419283.0</td>\n",
       "      <td>109.47</td>\n",
       "      <td>111.21</td>\n",
       "      <td>109.275</td>\n",
       "      <td>Wednesday</td>\n",
       "    </tr>\n",
       "  </tbody>\n",
       "</table>\n",
       "</div>"
      ],
      "text/plain": [
       "     0  1  2          3   4  5   6   7            8        9        10  \\\n",
       "0  2020  1  1      apple  10  2   8  20  135647440.0    74.06    75.15   \n",
       "1  2020  1  1  microsoft   9  0  11  20   22634550.0   158.78   160.73   \n",
       "2  2020  1  1      tesla  17  3   3  23   47791930.0     84.9  86.1391   \n",
       "3  2020  1  1     nvidia   1  0   0   1   23767876.0  59.6875  59.9775   \n",
       "4  2020  1  1     paypal   1  0   1   2    7419283.0   109.47   111.21   \n",
       "\n",
       "        11         12  \n",
       "0  73.7975  Wednesday  \n",
       "1   158.33  Wednesday  \n",
       "2   84.342  Wednesday  \n",
       "3    59.18  Wednesday  \n",
       "4  109.275  Wednesday  "
      ]
     },
     "execution_count": 6,
     "metadata": {},
     "output_type": "execute_result"
    }
   ],
   "source": [
    "df_X = pd.DataFrame(X_reg2)#, columns=['Column1', 'Column2'] \n",
    "df_X.head()"
   ]
  },
  {
   "cell_type": "code",
   "execution_count": 7,
   "metadata": {},
   "outputs": [],
   "source": [
    "#LABEL ENCODE\n",
    "# Encoding the Independent or ohject variable Day_of_week\n",
    "from sklearn.preprocessing import LabelEncoder, OneHotEncoder\n",
    "\n",
    "regEnc = LabelEncoder()\n",
    "\n",
    "X_reg2[:, -1] = regEnc.fit_transform(X_reg2[:, -1]) #Day_of_week\n",
    "\n",
    "X_reg2[:, 3] = regEnc.fit_transform(X_reg2[:, 3]) #stockName"
   ]
  },
  {
   "cell_type": "code",
   "execution_count": 8,
   "metadata": {},
   "outputs": [],
   "source": [
    "# That makes the train_set with the first 80% of the data, and the test_set with rest 20% of the data.\n",
    "\n",
    "Xtrain_set, Xtest_set= np.split(X_reg2, [int(0.8 * len(X_reg2))])\n",
    "\n",
    "ytrain_set, ytest_set= np.split(y_reg2, [int(0.8 * len(y_reg2))])"
   ]
  },
  {
   "cell_type": "code",
   "execution_count": 9,
   "metadata": {},
   "outputs": [
    {
     "name": "stdout",
     "output_type": "stream",
     "text": [
      "X shapes for train and test are:  (2386, 13) (597, 13) respectively\n",
      "X shapes for train and test are:  (2386,) (597,) respectively\n"
     ]
    }
   ],
   "source": [
    "print('X shapes for train and test are: ',Xtrain_set.shape, Xtest_set.shape, 'respectively')\n",
    "print('X shapes for train and test are: ',ytrain_set.shape, ytest_set.shape, 'respectively')"
   ]
  },
  {
   "cell_type": "code",
   "execution_count": 10,
   "metadata": {},
   "outputs": [],
   "source": [
    "from sklearn.linear_model import LinearRegression\n",
    "\n",
    "reg = LinearRegression()\n",
    "\n",
    "reg = reg.fit(Xtrain_set,ytrain_set)\n",
    "\n",
    "y_Lpred = reg.predict(Xtest_set)"
   ]
  },
  {
   "cell_type": "code",
   "execution_count": 11,
   "metadata": {},
   "outputs": [
    {
     "name": "stdout",
     "output_type": "stream",
     "text": [
      "rmse:  3.21915272492018\n",
      "Mean absolute error:  2.0020878617333757\n",
      "The r2_score:  0.9997137803863846\n"
     ]
    }
   ],
   "source": [
    "#rmse\n",
    "import math\n",
    "from sklearn import metrics\n",
    "\n",
    "\n",
    "mse =np.square(np.subtract(ytest_set, y_Lpred)).mean()\n",
    "rmse = math.sqrt(mse)\n",
    "print('rmse: ', rmse)\n",
    "\n",
    "#Accuracy\n",
    "print('Mean absolute error: ', metrics.mean_absolute_error(ytest_set, y_Lpred))\n",
    "\n",
    "#r2_score\n",
    "print('The r2_score: ', metrics.r2_score(ytest_set, y_Lpred))"
   ]
  },
  {
   "cell_type": "code",
   "execution_count": 14,
   "metadata": {},
   "outputs": [
    {
     "data": {
      "text/html": [
       "<div>\n",
       "<style scoped>\n",
       "    .dataframe tbody tr th:only-of-type {\n",
       "        vertical-align: middle;\n",
       "    }\n",
       "\n",
       "    .dataframe tbody tr th {\n",
       "        vertical-align: top;\n",
       "    }\n",
       "\n",
       "    .dataframe thead th {\n",
       "        text-align: right;\n",
       "    }\n",
       "</style>\n",
       "<table border=\"1\" class=\"dataframe\">\n",
       "  <thead>\n",
       "    <tr style=\"text-align: right;\">\n",
       "      <th></th>\n",
       "      <th>Actual</th>\n",
       "      <th>Predicted</th>\n",
       "    </tr>\n",
       "  </thead>\n",
       "  <tbody>\n",
       "    <tr>\n",
       "      <th>0</th>\n",
       "      <td>126.543333</td>\n",
       "      <td>126.279739</td>\n",
       "    </tr>\n",
       "    <tr>\n",
       "      <th>1</th>\n",
       "      <td>248.910000</td>\n",
       "      <td>248.870583</td>\n",
       "    </tr>\n",
       "    <tr>\n",
       "      <th>2</th>\n",
       "      <td>597.920000</td>\n",
       "      <td>592.317572</td>\n",
       "    </tr>\n",
       "    <tr>\n",
       "      <th>3</th>\n",
       "      <td>154.052500</td>\n",
       "      <td>153.637158</td>\n",
       "    </tr>\n",
       "    <tr>\n",
       "      <th>4</th>\n",
       "      <td>254.355000</td>\n",
       "      <td>253.247972</td>\n",
       "    </tr>\n",
       "    <tr>\n",
       "      <th>...</th>\n",
       "      <td>...</td>\n",
       "      <td>...</td>\n",
       "    </tr>\n",
       "    <tr>\n",
       "      <th>592</th>\n",
       "      <td>730.170000</td>\n",
       "      <td>733.011441</td>\n",
       "    </tr>\n",
       "    <tr>\n",
       "      <th>593</th>\n",
       "      <td>211.130000</td>\n",
       "      <td>210.532939</td>\n",
       "    </tr>\n",
       "    <tr>\n",
       "      <th>594</th>\n",
       "      <td>269.910000</td>\n",
       "      <td>270.088517</td>\n",
       "    </tr>\n",
       "    <tr>\n",
       "      <th>595</th>\n",
       "      <td>212.460000</td>\n",
       "      <td>211.812669</td>\n",
       "    </tr>\n",
       "    <tr>\n",
       "      <th>596</th>\n",
       "      <td>269.490000</td>\n",
       "      <td>271.310642</td>\n",
       "    </tr>\n",
       "  </tbody>\n",
       "</table>\n",
       "<p>597 rows × 2 columns</p>\n",
       "</div>"
      ],
      "text/plain": [
       "         Actual   Predicted\n",
       "0    126.543333  126.279739\n",
       "1    248.910000  248.870583\n",
       "2    597.920000  592.317572\n",
       "3    154.052500  153.637158\n",
       "4    254.355000  253.247972\n",
       "..          ...         ...\n",
       "592  730.170000  733.011441\n",
       "593  211.130000  210.532939\n",
       "594  269.910000  270.088517\n",
       "595  212.460000  211.812669\n",
       "596  269.490000  271.310642\n",
       "\n",
       "[597 rows x 2 columns]"
      ]
     },
     "execution_count": 14,
     "metadata": {},
     "output_type": "execute_result"
    }
   ],
   "source": [
    "result = pd.DataFrame({'Actual': ytest_set.flatten(), 'Predicted': y_Lpred.flatten()})\n",
    "result"
   ]
  },
  {
   "cell_type": "code",
   "execution_count": 15,
   "metadata": {},
   "outputs": [],
   "source": [
    "result.to_csv(\"actualVpred.csv\", index = False)"
   ]
  },
  {
   "cell_type": "code",
   "execution_count": 19,
   "metadata": {},
   "outputs": [
    {
     "data": {
      "image/png": "[encoded data removed]",
      "text/plain": [
       "<Figure size 1152x720 with 1 Axes>"
      ]
     },
     "metadata": {
      "needs_background": "light"
     },
     "output_type": "display_data"
    }
   ],
   "source": [
    "result2 = result.head(10)\n",
    "result2.plot(kind='bar',figsize=(16,10))\n",
    "plt.grid(which='major', linestyle='-', linewidth='0.5', color='green')\n",
    "plt.grid(which='minor', linestyle=':', linewidth='0.5', color='black')\n",
    "plt.show()"
   ]
  },
  {
   "cell_type": "markdown",
   "metadata": {},
   "source": [
    "### further check\n",
    "Drop High, low, Open and volume"
   ]
  },
  {
   "cell_type": "code",
   "execution_count": 20,
   "metadata": {},
   "outputs": [],
   "source": [
    "# cols = ['Close', 'High', 'Low', 'Volume','Open','Day_of_week']\n",
    "# X_reg3 = df2.drop(cols, axis = 1).values\n",
    "# y_reg3 = df2['Close'].values\n",
    "\n",
    "X_reg3 = X_reg2\n",
    "y_reg3 = y_reg2"
   ]
  },
  {
   "cell_type": "code",
   "execution_count": 21,
   "metadata": {},
   "outputs": [
    {
     "data": {
      "text/plain": [
       "(2983, 13)"
      ]
     },
     "execution_count": 21,
     "metadata": {},
     "output_type": "execute_result"
    }
   ],
   "source": [
    "X_reg2.shape"
   ]
  },
  {
   "cell_type": "code",
   "execution_count": 22,
   "metadata": {},
   "outputs": [
    {
     "data": {
      "text/plain": [
       "(2983, 13)"
      ]
     },
     "execution_count": 22,
     "metadata": {},
     "output_type": "execute_result"
    }
   ],
   "source": [
    "X_reg3.shape"
   ]
  },
  {
   "cell_type": "code",
   "execution_count": 23,
   "metadata": {},
   "outputs": [
    {
     "name": "stdout",
     "output_type": "stream",
     "text": [
      "(2983,) (2983,)\n"
     ]
    }
   ],
   "source": [
    "print(y_reg2.shape, y_reg3.shape)"
   ]
  },
  {
   "cell_type": "code",
   "execution_count": 24,
   "metadata": {},
   "outputs": [],
   "source": [
    "#Check the new index positions of variables\n",
    "# df_X = pd.DataFrame(X_reg3)#, columns=['Column1', 'Column2'] \n",
    "# df_X.head()"
   ]
  },
  {
   "cell_type": "code",
   "execution_count": 25,
   "metadata": {},
   "outputs": [],
   "source": [
    "# #Label encode the categorical variables\n",
    "\n",
    "# X_reg3[:, -1] = regEnc.fit_transform(X_reg3[:, -1]) #Day_of_week\n",
    "\n",
    "# X_reg3[:, 3] = regEnc.fit_transform(X_reg3[:, 3]) #stockName"
   ]
  },
  {
   "cell_type": "code",
   "execution_count": 26,
   "metadata": {},
   "outputs": [],
   "source": [
    "#Split the new data into training and testing sets\n",
    "\n",
    "Xtrain_set3, Xtest_set3= np.split(X_reg3, [int(0.8 * len(X_reg3))])\n",
    "ytrain_set3, ytest_set3= np.split(y_reg3, [int(0.8 * len(y_reg3))])"
   ]
  },
  {
   "cell_type": "code",
   "execution_count": 27,
   "metadata": {},
   "outputs": [],
   "source": [
    "#Fit the model\n",
    "\n",
    "reg = reg.fit(Xtrain_set3,ytrain_set3)\n",
    "\n",
    "y_Lpred3 = reg.predict(Xtest_set3)"
   ]
  },
  {
   "cell_type": "code",
   "execution_count": 28,
   "metadata": {},
   "outputs": [
    {
     "name": "stdout",
     "output_type": "stream",
     "text": [
      "SCORES----\n",
      "\n",
      "rmse:  3.21915272492018\n",
      "Mean absolute error:  2.0020878617333757\n",
      "The r2_score:  0.9997137803863846\n"
     ]
    }
   ],
   "source": [
    "#Scores\n",
    "\n",
    "print('SCORES----')\n",
    "print()\n",
    "mse =np.square(np.subtract(ytest_set3, y_Lpred3)).mean()\n",
    "rmse = math.sqrt(mse)\n",
    "print('rmse: ', rmse)\n",
    "\n",
    "#Accuracy\n",
    "print('Mean absolute error: ', metrics.mean_absolute_error(ytest_set3, y_Lpred3))\n",
    "\n",
    "#r2_score\n",
    "print('The r2_score: ', metrics.r2_score(ytest_set3, y_Lpred3))"
   ]
  },
  {
   "cell_type": "markdown",
   "metadata": {},
   "source": [
    "#### RANDOM FOREST"
   ]
  },
  {
   "cell_type": "markdown",
   "metadata": {},
   "source": [
    "We cannot pass floats to a classifier which expects categorical values as the Response target vector. Therefore, we convert it to int it will be accepted as input."
   ]
  },
  {
   "cell_type": "code",
   "execution_count": 29,
   "metadata": {},
   "outputs": [],
   "source": [
    "# from sklearn import utils\n",
    "\n",
    "# print(utils.multiclass.type_of_target(y_reg3))"
   ]
  },
  {
   "cell_type": "code",
   "execution_count": 30,
   "metadata": {},
   "outputs": [],
   "source": [
    "\n",
    "# y_reg3 = regEnc.fit_transform(y_reg3)\n",
    "\n",
    "# print(utils.multiclass.type_of_target(y_reg3.astype('int')))\n",
    "# print(utils.multiclass.type_of_target(y_reg3))"
   ]
  },
  {
   "cell_type": "code",
   "execution_count": 31,
   "metadata": {},
   "outputs": [],
   "source": [
    "ytrain_set3, ytest_set3= np.split(y_reg3, [int(0.8 * len(y_reg3))])"
   ]
  },
  {
   "cell_type": "code",
   "execution_count": 32,
   "metadata": {},
   "outputs": [],
   "source": [
    "# from sklearn.ensemble import RandomForestClassifier\n",
    "\n",
    "# #Create a Gaussian Classifier\n",
    "# clf=RandomForestClassifier(n_estimators=100)\n",
    "\n",
    "# clf.fit(Xtrain_set3,ytrain_set3)\n",
    "\n",
    "# y_Lpred3 = clf.predict(Xtest_set3)\n",
    "\n",
    "# #Scores\n",
    "\n",
    "# print('----RANDOM FOREST SCORES----')\n",
    "# print()\n",
    "# mse =np.square(np.subtract(ytest_set3, y_Lpred3)).mean()\n",
    "# rmse = math.sqrt(mse)\n",
    "# print('rmse: ', rmse)\n",
    "\n",
    "# #Accuracy\n",
    "# print('Mean absolute error: ', metrics.mean_absolute_error(ytest_set3, y_Lpred3))\n",
    "\n",
    "# #r2_score\n",
    "# print('The r2_score: ', metrics.r2_score(ytest_set3, y_Lpred3))\n",
    "\n"
   ]
  },
  {
   "cell_type": "code",
   "execution_count": 33,
   "metadata": {},
   "outputs": [
    {
     "name": "stdout",
     "output_type": "stream",
     "text": [
      "Fitting 5 folds for each of 10 candidates, totalling 50 fits\n"
     ]
    },
    {
     "data": {
      "text/plain": [
       "{'min_samples_split': 3, 'max_depth': 10, 'criterion': 'mae'}"
      ]
     },
     "execution_count": 33,
     "metadata": {},
     "output_type": "execute_result"
    }
   ],
   "source": [
    "from sklearn.ensemble import RandomForestRegressor\n",
    "from sklearn.model_selection import train_test_split\n",
    "from sklearn.model_selection import RandomizedSearchCV\n",
    "\n",
    "rf = RandomForestRegressor()\n",
    "\n",
    "params = {'max_depth':[5,10,30,50],\n",
    "         'min_samples_split':[2,3,5,10],\n",
    "         'criterion':['mse','mae']}\n",
    "\n",
    "\n",
    "cross_val = RandomizedSearchCV(estimator = rf, \n",
    "                          param_distributions = params,\n",
    "                          cv = 5,\n",
    "                          n_iter = 10,\n",
    "                          n_jobs = -1,\n",
    "                          verbose = 10)\n",
    "\n",
    "cross_val.fit(Xtrain_set3,ytrain_set3)\n",
    "cross_val.best_params_"
   ]
  },
  {
   "cell_type": "code",
   "execution_count": 34,
   "metadata": {},
   "outputs": [
    {
     "name": "stdout",
     "output_type": "stream",
     "text": [
      "the best parameters are :  {'min_samples_split': 3, 'max_depth': 10, 'criterion': 'mae'}\n"
     ]
    }
   ],
   "source": [
    "print('the best parameters are : ', cross_val.best_params_)\n",
    "\n",
    "rf_best = cross_val.best_estimator_\n",
    "rf_best.fit(Xtrain_set3,ytrain_set3)\n",
    "\n",
    "y_Lpred3 = rf_best.predict(Xtest_set3)\n"
   ]
  },
  {
   "cell_type": "code",
   "execution_count": 35,
   "metadata": {},
   "outputs": [
    {
     "name": "stdout",
     "output_type": "stream",
     "text": [
      "----RANDOM FOREST SCORES----\n",
      "\n",
      "rmse:  3.7323628408837366\n",
      "Mean absolute error:  1.541480477827273\n",
      "The r2_score:  0.9996152452921067\n"
     ]
    }
   ],
   "source": [
    "print('----RANDOM FOREST SCORES----')\n",
    "print()\n",
    "mse =np.square(np.subtract(ytest_set3, y_Lpred3)).mean()\n",
    "rmse = math.sqrt(mse)\n",
    "print('rmse: ', rmse)\n",
    "\n",
    "#Accuracy\n",
    "print('Mean absolute error: ', math.sqrt(metrics.mean_absolute_error(ytest_set3, y_Lpred3)))\n",
    "\n",
    "#r2_score\n",
    "print('The r2_score: ', metrics.r2_score(ytest_set3, y_Lpred3))\n",
    "\n"
   ]
  },
  {
   "cell_type": "markdown",
   "metadata": {},
   "source": [
    "### DECISION TREE"
   ]
  },
  {
   "cell_type": "code",
   "execution_count": 36,
   "metadata": {},
   "outputs": [
    {
     "name": "stdout",
     "output_type": "stream",
     "text": [
      "Fitting 5 folds for each of 10 candidates, totalling 50 fits\n",
      "====================================================================================================\n",
      "The Best Parameters are :  {'min_samples_split': 10, 'max_depth': 70}\n",
      "====================================================================================================\n"
     ]
    }
   ],
   "source": [
    "from sklearn.tree import DecisionTreeRegressor\n",
    "\n",
    "\n",
    "dt = DecisionTreeRegressor()\n",
    "params = {'max_depth': [10,20,30,50,70,100], 'min_samples_split':[5,10,15,20,30]}\n",
    "\n",
    "dt_cross_val = RandomizedSearchCV(estimator=dt, param_distributions=params, n_iter=10,cv=5,verbose=10,n_jobs=-1)\n",
    "dt_cross_val.fit(Xtrain_set3,ytrain_set3)\n",
    "\n",
    "print('='*100)\n",
    "print('The Best Parameters are : ',dt_cross_val.best_params_)\n",
    "print('='*100) \n",
    "\n",
    "dt_best = dt_cross_val.best_estimator_ \n",
    "dt_best.fit(Xtrain_set3,ytrain_set3)\n",
    "\n",
    "y_Lpred3 = dt_best.predict(Xtest_set3)"
   ]
  },
  {
   "cell_type": "code",
   "execution_count": 37,
   "metadata": {},
   "outputs": [
    {
     "name": "stdout",
     "output_type": "stream",
     "text": [
      "----DECISION TREE SCORES----\n",
      "\n",
      "rmse:  5.458927755021028\n",
      "Mean absolute error:  1.9165530876627683\n",
      "The r2_score:  0.9991769410872122\n"
     ]
    }
   ],
   "source": [
    "print('----DECISION TREE SCORES----')\n",
    "print()\n",
    "mse =np.square(np.subtract(ytest_set3, y_Lpred3)).mean()\n",
    "rmse = math.sqrt(mse)\n",
    "print('rmse: ', rmse)\n",
    "\n",
    "#Accuracy\n",
    "print('Mean absolute error: ', math.sqrt(metrics.mean_absolute_error(ytest_set3, y_Lpred3)))\n",
    "\n",
    "#r2_score\n",
    "print('The r2_score: ', metrics.r2_score(ytest_set3, y_Lpred3))\n"
   ]
  },
  {
   "cell_type": "markdown",
   "metadata": {},
   "source": [
    "### XGBOOST"
   ]
  },
  {
   "cell_type": "code",
   "execution_count": 38,
   "metadata": {},
   "outputs": [
    {
     "name": "stdout",
     "output_type": "stream",
     "text": [
      "Fitting 5 folds for each of 10 candidates, totalling 50 fits\n",
      "====================================================================================================\n",
      "The Best Parameters are :  {'n_estimators': 70, 'max_depth': 10, 'learning_rate': 0.1}\n",
      "====================================================================================================\n"
     ]
    }
   ],
   "source": [
    "from xgboost import XGBRegressor\n",
    "\n",
    "xgb = XGBRegressor()\n",
    "\n",
    "params = {'learning_rate':[0.01,0.03,0.05,0.1],\n",
    "          'n_estimators':[5,10,15,20,50,70,100],\n",
    "          'max_depth':[3,5,10]} \n",
    "\n",
    "cross_val = RandomizedSearchCV(xgb, param_distributions=params, n_iter=10,cv=5,n_jobs=-1, verbose=10)\n",
    "cross_val.fit(Xtrain_set3,ytrain_set3)\n",
    "\n",
    "print('='*100)\n",
    "print('The Best Parameters are : ',cross_val.best_params_)\n",
    "print('='*100) \n",
    "\n",
    "xgb_best = cross_val.best_estimator_ \n",
    "xgb_best.fit(Xtrain_set3,ytrain_set3)\n",
    "\n",
    "y_Lpred3 = xgb_best.predict(Xtest_set3)"
   ]
  },
  {
   "cell_type": "code",
   "execution_count": 39,
   "metadata": {},
   "outputs": [
    {
     "name": "stdout",
     "output_type": "stream",
     "text": [
      "----XGBOOST SCORES----\n",
      "\n",
      "rmse:  4.966387324197614\n",
      "Mean absolute error:  1.7910139818093553\n",
      "The r2_score:  0.999318764294927\n"
     ]
    }
   ],
   "source": [
    "print('----XGBOOST SCORES----')\n",
    "print()\n",
    "mse =np.square(np.subtract(ytest_set3, y_Lpred3)).mean()\n",
    "rmse = math.sqrt(mse)\n",
    "print('rmse: ', rmse)\n",
    "\n",
    "#Accuracy\n",
    "print('Mean absolute error: ', math.sqrt(metrics.mean_absolute_error(ytest_set3, y_Lpred3)))\n",
    "\n",
    "#r2_score\n",
    "print('The r2_score: ', metrics.r2_score(ytest_set3, y_Lpred3))\n"
   ]
  },
  {
   "cell_type": "markdown",
   "metadata": {},
   "source": [
    "### GRADIENT BOOSTING"
   ]
  },
  {
   "cell_type": "code",
   "execution_count": 40,
   "metadata": {},
   "outputs": [
    {
     "name": "stdout",
     "output_type": "stream",
     "text": [
      "Fitting 5 folds for each of 10 candidates, totalling 50 fits\n",
      "====================================================================================================\n",
      "The Best Parameters are :  {'n_estimators': 50, 'max_depth': 5, 'learning_rate': 0.1}\n",
      "====================================================================================================\n"
     ]
    }
   ],
   "source": [
    "from sklearn.ensemble import GradientBoostingRegressor\n",
    "\n",
    "gbr = GradientBoostingRegressor() \n",
    "\n",
    "\n",
    "params = {'learning_rate':[0.01,0.03,0.05,0.1],\n",
    "          'n_estimators':[5,10,15,20,50,70,100],\n",
    "          'max_depth':[3,5,10]} \n",
    "\n",
    "cross_val = RandomizedSearchCV(gbr, param_distributions=params, n_iter=10,cv=5,n_jobs=-1, verbose=10)\n",
    "cross_val.fit(Xtrain_set3,ytrain_set3)\n",
    "\n",
    "print('='*100)\n",
    "print('The Best Parameters are : ',cross_val.best_params_)\n",
    "print('='*100) \n",
    "\n",
    "xgb_best = cross_val.best_estimator_ \n",
    "xgb_best.fit(Xtrain_set3,ytrain_set3)\n",
    "\n",
    "y_Lpred3 = xgb_best.predict(Xtest_set3)"
   ]
  },
  {
   "cell_type": "code",
   "execution_count": 41,
   "metadata": {},
   "outputs": [
    {
     "name": "stdout",
     "output_type": "stream",
     "text": [
      "----GRADIENT BOOSTING SCORES----\n",
      "\n",
      "rmse:  4.418906056666085\n",
      "Mean absolute error:  1.6720831283440263\n",
      "The r2_score:  0.9994606809432487\n"
     ]
    }
   ],
   "source": [
    "print('----GRADIENT BOOSTING SCORES----')\n",
    "print()\n",
    "mse =np.square(np.subtract(ytest_set3, y_Lpred3)).mean()\n",
    "rmse = math.sqrt(mse)\n",
    "print('rmse: ', rmse)\n",
    "\n",
    "#Accuracy\n",
    "print('Mean absolute error: ', math.sqrt(metrics.mean_absolute_error(ytest_set3, y_Lpred3)))\n",
    "\n",
    "#r2_score\n",
    "print('The r2_score: ', metrics.r2_score(ytest_set3, y_Lpred3))\n"
   ]
  },
  {
   "cell_type": "code",
   "execution_count": 42,
   "metadata": {},
   "outputs": [
    {
     "name": "stdout",
     "output_type": "stream",
     "text": [
      "Fitting 5 folds for each of 10 candidates, totalling 50 fits\n"
     ]
    },
    {
     "ename": "ValueError",
     "evalue": "Invalid parameter min_samples_split for estimator LinearRegression(). Check the list of available parameters with `estimator.get_params().keys()`.",
     "output_type": "error",
     "traceback": [
      "\u001b[1;31m---------------------------------------------------------------------------\u001b[0m",
      "\u001b[1;31m_RemoteTraceback\u001b[0m                          Traceback (most recent call last)",
      "\u001b[1;31m_RemoteTraceback\u001b[0m: \n\"\"\"\nTraceback (most recent call last):\n  File \"C:\\Users\\ANEFU PETER\\anaconda3\\lib\\site-packages\\joblib\\externals\\loky\\process_executor.py\", line 431, in _process_worker\n    r = call_item()\n  File \"C:\\Users\\ANEFU PETER\\anaconda3\\lib\\site-packages\\joblib\\externals\\loky\\process_executor.py\", line 285, in __call__\n    return self.fn(*self.args, **self.kwargs)\n  File \"C:\\Users\\ANEFU PETER\\anaconda3\\lib\\site-packages\\joblib\\_parallel_backends.py\", line 595, in __call__\n    return self.func(*args, **kwargs)\n  File \"C:\\Users\\ANEFU PETER\\anaconda3\\lib\\site-packages\\joblib\\parallel.py\", line 262, in __call__\n    return [func(*args, **kwargs)\n  File \"C:\\Users\\ANEFU PETER\\anaconda3\\lib\\site-packages\\joblib\\parallel.py\", line 262, in <listcomp>\n    return [func(*args, **kwargs)\n  File \"C:\\Users\\ANEFU PETER\\anaconda3\\lib\\site-packages\\sklearn\\utils\\fixes.py\", line 222, in __call__\n    return self.function(*args, **kwargs)\n  File \"C:\\Users\\ANEFU PETER\\anaconda3\\lib\\site-packages\\sklearn\\model_selection\\_validation.py\", line 586, in _fit_and_score\n    estimator = estimator.set_params(**cloned_parameters)\n  File \"C:\\Users\\ANEFU PETER\\anaconda3\\lib\\site-packages\\sklearn\\base.py\", line 230, in set_params\n    raise ValueError('Invalid parameter %s for estimator %s. '\nValueError: Invalid parameter min_samples_split for estimator LinearRegression(). Check the list of available parameters with `estimator.get_params().keys()`.\n\"\"\"",
      "\nThe above exception was the direct cause of the following exception:\n",
      "\u001b[1;31mValueError\u001b[0m                                Traceback (most recent call last)",
      "\u001b[1;32mC:\\Users\\ANEFUP~1\\AppData\\Local\\Temp/ipykernel_20412/2784288445.py\u001b[0m in \u001b[0;36m<module>\u001b[1;34m\u001b[0m\n\u001b[0;32m     12\u001b[0m                           verbose = 10)\n\u001b[0;32m     13\u001b[0m \u001b[1;33m\u001b[0m\u001b[0m\n\u001b[1;32m---> 14\u001b[1;33m \u001b[0mcross_val\u001b[0m\u001b[1;33m.\u001b[0m\u001b[0mfit\u001b[0m\u001b[1;33m(\u001b[0m\u001b[0mXtrain_set3\u001b[0m\u001b[1;33m,\u001b[0m\u001b[0mytrain_set3\u001b[0m\u001b[1;33m)\u001b[0m\u001b[1;33m\u001b[0m\u001b[1;33m\u001b[0m\u001b[0m\n\u001b[0m\u001b[0;32m     15\u001b[0m \u001b[0mcross_val\u001b[0m\u001b[1;33m.\u001b[0m\u001b[0mbest_params_\u001b[0m\u001b[1;33m\u001b[0m\u001b[1;33m\u001b[0m\u001b[0m\n\u001b[0;32m     16\u001b[0m \u001b[1;33m\u001b[0m\u001b[0m\n",
      "\u001b[1;32m~\\anaconda3\\lib\\site-packages\\sklearn\\utils\\validation.py\u001b[0m in \u001b[0;36minner_f\u001b[1;34m(*args, **kwargs)\u001b[0m\n\u001b[0;32m     61\u001b[0m             \u001b[0mextra_args\u001b[0m \u001b[1;33m=\u001b[0m \u001b[0mlen\u001b[0m\u001b[1;33m(\u001b[0m\u001b[0margs\u001b[0m\u001b[1;33m)\u001b[0m \u001b[1;33m-\u001b[0m \u001b[0mlen\u001b[0m\u001b[1;33m(\u001b[0m\u001b[0mall_args\u001b[0m\u001b[1;33m)\u001b[0m\u001b[1;33m\u001b[0m\u001b[1;33m\u001b[0m\u001b[0m\n\u001b[0;32m     62\u001b[0m             \u001b[1;32mif\u001b[0m \u001b[0mextra_args\u001b[0m \u001b[1;33m<=\u001b[0m \u001b[1;36m0\u001b[0m\u001b[1;33m:\u001b[0m\u001b[1;33m\u001b[0m\u001b[1;33m\u001b[0m\u001b[0m\n\u001b[1;32m---> 63\u001b[1;33m                 \u001b[1;32mreturn\u001b[0m \u001b[0mf\u001b[0m\u001b[1;33m(\u001b[0m\u001b[1;33m*\u001b[0m\u001b[0margs\u001b[0m\u001b[1;33m,\u001b[0m \u001b[1;33m**\u001b[0m\u001b[0mkwargs\u001b[0m\u001b[1;33m)\u001b[0m\u001b[1;33m\u001b[0m\u001b[1;33m\u001b[0m\u001b[0m\n\u001b[0m\u001b[0;32m     64\u001b[0m \u001b[1;33m\u001b[0m\u001b[0m\n\u001b[0;32m     65\u001b[0m             \u001b[1;31m# extra_args > 0\u001b[0m\u001b[1;33m\u001b[0m\u001b[1;33m\u001b[0m\u001b[1;33m\u001b[0m\u001b[0m\n",
      "\u001b[1;32m~\\anaconda3\\lib\\site-packages\\sklearn\\model_selection\\_search.py\u001b[0m in \u001b[0;36mfit\u001b[1;34m(self, X, y, groups, **fit_params)\u001b[0m\n\u001b[0;32m    839\u001b[0m                 \u001b[1;32mreturn\u001b[0m \u001b[0mresults\u001b[0m\u001b[1;33m\u001b[0m\u001b[1;33m\u001b[0m\u001b[0m\n\u001b[0;32m    840\u001b[0m \u001b[1;33m\u001b[0m\u001b[0m\n\u001b[1;32m--> 841\u001b[1;33m             \u001b[0mself\u001b[0m\u001b[1;33m.\u001b[0m\u001b[0m_run_search\u001b[0m\u001b[1;33m(\u001b[0m\u001b[0mevaluate_candidates\u001b[0m\u001b[1;33m)\u001b[0m\u001b[1;33m\u001b[0m\u001b[1;33m\u001b[0m\u001b[0m\n\u001b[0m\u001b[0;32m    842\u001b[0m \u001b[1;33m\u001b[0m\u001b[0m\n\u001b[0;32m    843\u001b[0m             \u001b[1;31m# multimetric is determined here because in the case of a callable\u001b[0m\u001b[1;33m\u001b[0m\u001b[1;33m\u001b[0m\u001b[1;33m\u001b[0m\u001b[0m\n",
      "\u001b[1;32m~\\anaconda3\\lib\\site-packages\\sklearn\\model_selection\\_search.py\u001b[0m in \u001b[0;36m_run_search\u001b[1;34m(self, evaluate_candidates)\u001b[0m\n\u001b[0;32m   1631\u001b[0m     \u001b[1;32mdef\u001b[0m \u001b[0m_run_search\u001b[0m\u001b[1;33m(\u001b[0m\u001b[0mself\u001b[0m\u001b[1;33m,\u001b[0m \u001b[0mevaluate_candidates\u001b[0m\u001b[1;33m)\u001b[0m\u001b[1;33m:\u001b[0m\u001b[1;33m\u001b[0m\u001b[1;33m\u001b[0m\u001b[0m\n\u001b[0;32m   1632\u001b[0m         \u001b[1;34m\"\"\"Search n_iter candidates from param_distributions\"\"\"\u001b[0m\u001b[1;33m\u001b[0m\u001b[1;33m\u001b[0m\u001b[0m\n\u001b[1;32m-> 1633\u001b[1;33m         evaluate_candidates(ParameterSampler(\n\u001b[0m\u001b[0;32m   1634\u001b[0m             \u001b[0mself\u001b[0m\u001b[1;33m.\u001b[0m\u001b[0mparam_distributions\u001b[0m\u001b[1;33m,\u001b[0m \u001b[0mself\u001b[0m\u001b[1;33m.\u001b[0m\u001b[0mn_iter\u001b[0m\u001b[1;33m,\u001b[0m\u001b[1;33m\u001b[0m\u001b[1;33m\u001b[0m\u001b[0m\n\u001b[0;32m   1635\u001b[0m             random_state=self.random_state))\n",
      "\u001b[1;32m~\\anaconda3\\lib\\site-packages\\sklearn\\model_selection\\_search.py\u001b[0m in \u001b[0;36mevaluate_candidates\u001b[1;34m(candidate_params, cv, more_results)\u001b[0m\n\u001b[0;32m    793\u001b[0m                               n_splits, n_candidates, n_candidates * n_splits))\n\u001b[0;32m    794\u001b[0m \u001b[1;33m\u001b[0m\u001b[0m\n\u001b[1;32m--> 795\u001b[1;33m                 out = parallel(delayed(_fit_and_score)(clone(base_estimator),\n\u001b[0m\u001b[0;32m    796\u001b[0m                                                        \u001b[0mX\u001b[0m\u001b[1;33m,\u001b[0m \u001b[0my\u001b[0m\u001b[1;33m,\u001b[0m\u001b[1;33m\u001b[0m\u001b[1;33m\u001b[0m\u001b[0m\n\u001b[0;32m    797\u001b[0m                                                        \u001b[0mtrain\u001b[0m\u001b[1;33m=\u001b[0m\u001b[0mtrain\u001b[0m\u001b[1;33m,\u001b[0m \u001b[0mtest\u001b[0m\u001b[1;33m=\u001b[0m\u001b[0mtest\u001b[0m\u001b[1;33m,\u001b[0m\u001b[1;33m\u001b[0m\u001b[1;33m\u001b[0m\u001b[0m\n",
      "\u001b[1;32m~\\anaconda3\\lib\\site-packages\\joblib\\parallel.py\u001b[0m in \u001b[0;36m__call__\u001b[1;34m(self, iterable)\u001b[0m\n\u001b[0;32m   1052\u001b[0m \u001b[1;33m\u001b[0m\u001b[0m\n\u001b[0;32m   1053\u001b[0m             \u001b[1;32mwith\u001b[0m \u001b[0mself\u001b[0m\u001b[1;33m.\u001b[0m\u001b[0m_backend\u001b[0m\u001b[1;33m.\u001b[0m\u001b[0mretrieval_context\u001b[0m\u001b[1;33m(\u001b[0m\u001b[1;33m)\u001b[0m\u001b[1;33m:\u001b[0m\u001b[1;33m\u001b[0m\u001b[1;33m\u001b[0m\u001b[0m\n\u001b[1;32m-> 1054\u001b[1;33m                 \u001b[0mself\u001b[0m\u001b[1;33m.\u001b[0m\u001b[0mretrieve\u001b[0m\u001b[1;33m(\u001b[0m\u001b[1;33m)\u001b[0m\u001b[1;33m\u001b[0m\u001b[1;33m\u001b[0m\u001b[0m\n\u001b[0m\u001b[0;32m   1055\u001b[0m             \u001b[1;31m# Make sure that we get a last message telling us we are done\u001b[0m\u001b[1;33m\u001b[0m\u001b[1;33m\u001b[0m\u001b[1;33m\u001b[0m\u001b[0m\n\u001b[0;32m   1056\u001b[0m             \u001b[0melapsed_time\u001b[0m \u001b[1;33m=\u001b[0m \u001b[0mtime\u001b[0m\u001b[1;33m.\u001b[0m\u001b[0mtime\u001b[0m\u001b[1;33m(\u001b[0m\u001b[1;33m)\u001b[0m \u001b[1;33m-\u001b[0m \u001b[0mself\u001b[0m\u001b[1;33m.\u001b[0m\u001b[0m_start_time\u001b[0m\u001b[1;33m\u001b[0m\u001b[1;33m\u001b[0m\u001b[0m\n",
      "\u001b[1;32m~\\anaconda3\\lib\\site-packages\\joblib\\parallel.py\u001b[0m in \u001b[0;36mretrieve\u001b[1;34m(self)\u001b[0m\n\u001b[0;32m    931\u001b[0m             \u001b[1;32mtry\u001b[0m\u001b[1;33m:\u001b[0m\u001b[1;33m\u001b[0m\u001b[1;33m\u001b[0m\u001b[0m\n\u001b[0;32m    932\u001b[0m                 \u001b[1;32mif\u001b[0m \u001b[0mgetattr\u001b[0m\u001b[1;33m(\u001b[0m\u001b[0mself\u001b[0m\u001b[1;33m.\u001b[0m\u001b[0m_backend\u001b[0m\u001b[1;33m,\u001b[0m \u001b[1;34m'supports_timeout'\u001b[0m\u001b[1;33m,\u001b[0m \u001b[1;32mFalse\u001b[0m\u001b[1;33m)\u001b[0m\u001b[1;33m:\u001b[0m\u001b[1;33m\u001b[0m\u001b[1;33m\u001b[0m\u001b[0m\n\u001b[1;32m--> 933\u001b[1;33m                     \u001b[0mself\u001b[0m\u001b[1;33m.\u001b[0m\u001b[0m_output\u001b[0m\u001b[1;33m.\u001b[0m\u001b[0mextend\u001b[0m\u001b[1;33m(\u001b[0m\u001b[0mjob\u001b[0m\u001b[1;33m.\u001b[0m\u001b[0mget\u001b[0m\u001b[1;33m(\u001b[0m\u001b[0mtimeout\u001b[0m\u001b[1;33m=\u001b[0m\u001b[0mself\u001b[0m\u001b[1;33m.\u001b[0m\u001b[0mtimeout\u001b[0m\u001b[1;33m)\u001b[0m\u001b[1;33m)\u001b[0m\u001b[1;33m\u001b[0m\u001b[1;33m\u001b[0m\u001b[0m\n\u001b[0m\u001b[0;32m    934\u001b[0m                 \u001b[1;32melse\u001b[0m\u001b[1;33m:\u001b[0m\u001b[1;33m\u001b[0m\u001b[1;33m\u001b[0m\u001b[0m\n\u001b[0;32m    935\u001b[0m                     \u001b[0mself\u001b[0m\u001b[1;33m.\u001b[0m\u001b[0m_output\u001b[0m\u001b[1;33m.\u001b[0m\u001b[0mextend\u001b[0m\u001b[1;33m(\u001b[0m\u001b[0mjob\u001b[0m\u001b[1;33m.\u001b[0m\u001b[0mget\u001b[0m\u001b[1;33m(\u001b[0m\u001b[1;33m)\u001b[0m\u001b[1;33m)\u001b[0m\u001b[1;33m\u001b[0m\u001b[1;33m\u001b[0m\u001b[0m\n",
      "\u001b[1;32m~\\anaconda3\\lib\\site-packages\\joblib\\_parallel_backends.py\u001b[0m in \u001b[0;36mwrap_future_result\u001b[1;34m(future, timeout)\u001b[0m\n\u001b[0;32m    540\u001b[0m         AsyncResults.get from multiprocessing.\"\"\"\n\u001b[0;32m    541\u001b[0m         \u001b[1;32mtry\u001b[0m\u001b[1;33m:\u001b[0m\u001b[1;33m\u001b[0m\u001b[1;33m\u001b[0m\u001b[0m\n\u001b[1;32m--> 542\u001b[1;33m             \u001b[1;32mreturn\u001b[0m \u001b[0mfuture\u001b[0m\u001b[1;33m.\u001b[0m\u001b[0mresult\u001b[0m\u001b[1;33m(\u001b[0m\u001b[0mtimeout\u001b[0m\u001b[1;33m=\u001b[0m\u001b[0mtimeout\u001b[0m\u001b[1;33m)\u001b[0m\u001b[1;33m\u001b[0m\u001b[1;33m\u001b[0m\u001b[0m\n\u001b[0m\u001b[0;32m    543\u001b[0m         \u001b[1;32mexcept\u001b[0m \u001b[0mCfTimeoutError\u001b[0m \u001b[1;32mas\u001b[0m \u001b[0me\u001b[0m\u001b[1;33m:\u001b[0m\u001b[1;33m\u001b[0m\u001b[1;33m\u001b[0m\u001b[0m\n\u001b[0;32m    544\u001b[0m             \u001b[1;32mraise\u001b[0m \u001b[0mTimeoutError\u001b[0m \u001b[1;32mfrom\u001b[0m \u001b[0me\u001b[0m\u001b[1;33m\u001b[0m\u001b[1;33m\u001b[0m\u001b[0m\n",
      "\u001b[1;32m~\\anaconda3\\lib\\concurrent\\futures\\_base.py\u001b[0m in \u001b[0;36mresult\u001b[1;34m(self, timeout)\u001b[0m\n\u001b[0;32m    437\u001b[0m                 \u001b[1;32mraise\u001b[0m \u001b[0mCancelledError\u001b[0m\u001b[1;33m(\u001b[0m\u001b[1;33m)\u001b[0m\u001b[1;33m\u001b[0m\u001b[1;33m\u001b[0m\u001b[0m\n\u001b[0;32m    438\u001b[0m             \u001b[1;32melif\u001b[0m \u001b[0mself\u001b[0m\u001b[1;33m.\u001b[0m\u001b[0m_state\u001b[0m \u001b[1;33m==\u001b[0m \u001b[0mFINISHED\u001b[0m\u001b[1;33m:\u001b[0m\u001b[1;33m\u001b[0m\u001b[1;33m\u001b[0m\u001b[0m\n\u001b[1;32m--> 439\u001b[1;33m                 \u001b[1;32mreturn\u001b[0m \u001b[0mself\u001b[0m\u001b[1;33m.\u001b[0m\u001b[0m__get_result\u001b[0m\u001b[1;33m(\u001b[0m\u001b[1;33m)\u001b[0m\u001b[1;33m\u001b[0m\u001b[1;33m\u001b[0m\u001b[0m\n\u001b[0m\u001b[0;32m    440\u001b[0m             \u001b[1;32melse\u001b[0m\u001b[1;33m:\u001b[0m\u001b[1;33m\u001b[0m\u001b[1;33m\u001b[0m\u001b[0m\n\u001b[0;32m    441\u001b[0m                 \u001b[1;32mraise\u001b[0m \u001b[0mTimeoutError\u001b[0m\u001b[1;33m(\u001b[0m\u001b[1;33m)\u001b[0m\u001b[1;33m\u001b[0m\u001b[1;33m\u001b[0m\u001b[0m\n",
      "\u001b[1;32m~\\anaconda3\\lib\\concurrent\\futures\\_base.py\u001b[0m in \u001b[0;36m__get_result\u001b[1;34m(self)\u001b[0m\n\u001b[0;32m    386\u001b[0m     \u001b[1;32mdef\u001b[0m \u001b[0m__get_result\u001b[0m\u001b[1;33m(\u001b[0m\u001b[0mself\u001b[0m\u001b[1;33m)\u001b[0m\u001b[1;33m:\u001b[0m\u001b[1;33m\u001b[0m\u001b[1;33m\u001b[0m\u001b[0m\n\u001b[0;32m    387\u001b[0m         \u001b[1;32mif\u001b[0m \u001b[0mself\u001b[0m\u001b[1;33m.\u001b[0m\u001b[0m_exception\u001b[0m\u001b[1;33m:\u001b[0m\u001b[1;33m\u001b[0m\u001b[1;33m\u001b[0m\u001b[0m\n\u001b[1;32m--> 388\u001b[1;33m             \u001b[1;32mraise\u001b[0m \u001b[0mself\u001b[0m\u001b[1;33m.\u001b[0m\u001b[0m_exception\u001b[0m\u001b[1;33m\u001b[0m\u001b[1;33m\u001b[0m\u001b[0m\n\u001b[0m\u001b[0;32m    389\u001b[0m         \u001b[1;32melse\u001b[0m\u001b[1;33m:\u001b[0m\u001b[1;33m\u001b[0m\u001b[1;33m\u001b[0m\u001b[0m\n\u001b[0;32m    390\u001b[0m             \u001b[1;32mreturn\u001b[0m \u001b[0mself\u001b[0m\u001b[1;33m.\u001b[0m\u001b[0m_result\u001b[0m\u001b[1;33m\u001b[0m\u001b[1;33m\u001b[0m\u001b[0m\n",
      "\u001b[1;31mValueError\u001b[0m: Invalid parameter min_samples_split for estimator LinearRegression(). Check the list of available parameters with `estimator.get_params().keys()`."
     ]
    }
   ],
   "source": [
    "##########LINEAR WITH \n",
    "\n",
    "params = {'max_depth':[5,10,30,50],\n",
    "         'min_samples_split':[2,3,5,10],\n",
    "         'criterion':['mse','mae']}\n",
    "\n",
    "\n",
    "cross_val = RandomizedSearchCV(estimator = reg, \n",
    "                          param_distributions = params,\n",
    "                          cv = 5,\n",
    "                          n_iter = 10,\n",
    "                          n_jobs = -1,\n",
    "                          verbose = 10)\n",
    "\n",
    "cross_val.fit(Xtrain_set3,ytrain_set3)\n",
    "cross_val.best_params_\n",
    "\n",
    "print('----GRADIENT BOOSTING SCORES----')\n",
    "print()\n",
    "mse =np.square(np.subtract(ytest_set3, y_Lpred3)).mean()\n",
    "rmse = math.sqrt(mse)\n",
    "print('rmse: ', rmse)\n",
    "\n",
    "#Accuracy\n",
    "print('Mean absolute error: ', math.sqrt(metrics.mean_absolute_error(ytest_set3, y_Lpred3)))\n",
    "\n",
    "#r2_score\n",
    "print('The r2_score: ', metrics.r2_score(ytest_set3, y_Lpred3))\n",
    "\n"
   ]
  },
  {
   "cell_type": "code",
   "execution_count": 38,
   "metadata": {},
   "outputs": [],
   "source": [
    "import pickle\n",
    "\n",
    "pickle_out = open('GBDT_MODEL.pkl', 'wb')\n",
    "pickle.dump(xgb_best, pickle_out)\n",
    "pickle_out.close()"
   ]
  },
  {
   "cell_type": "code",
   "execution_count": 39,
   "metadata": {},
   "outputs": [
    {
     "name": "stdout",
     "output_type": "stream",
     "text": [
      "         0  1   2  3   4   5   6    7\n",
      "0     2020  1   1  0  10   2   8   20\n",
      "1     2020  1   1  1   9   0  11   20\n",
      "2     2020  1   1  4  17   3   3   23\n",
      "3     2020  1   1  2   1   0   0    1\n",
      "4     2020  1   1  3   1   0   1    2\n",
      "...    ... ..  .. ..  ..  ..  ..  ...\n",
      "2978  2021  9  20  4  61  21  39  121\n",
      "2979  2021  9  20  2   3   4   3   10\n",
      "2980  2021  9  20  3   1   1   2    4\n",
      "2981  2021  9  21  2   4   4   1    9\n",
      "2982  2021  9  21  3   3   3   2    8\n",
      "\n",
      "[2983 rows x 8 columns]\n"
     ]
    }
   ],
   "source": [
    "print(pd.DataFrame(X_reg3))"
   ]
  },
  {
   "cell_type": "markdown",
   "metadata": {},
   "source": [
    "## DEPLOYMENT"
   ]
  },
  {
   "cell_type": "code",
   "execution_count": 40,
   "metadata": {},
   "outputs": [],
   "source": [
    "# pip install pickle"
   ]
  },
  {
   "cell_type": "code",
   "execution_count": 41,
   "metadata": {},
   "outputs": [],
   "source": [
    "# pip install streamlit"
   ]
  },
  {
   "cell_type": "code",
   "execution_count": 42,
   "metadata": {},
   "outputs": [
    {
     "name": "stdout",
     "output_type": "stream",
     "text": [
      "Overwriting app.py\n"
     ]
    }
   ],
   "source": [
    "%%writefile app.py\n",
    "\n",
    "import pickle\n",
    "import streamlit as st"
   ]
  },
  {
   "cell_type": "code",
   "execution_count": 43,
   "metadata": {},
   "outputs": [],
   "source": [
    "pickle_in = open('GBDT_MODEL.pkl', 'rb')\n",
    "model = pickle.load(pickle_in)"
   ]
  },
  {
   "cell_type": "code",
   "execution_count": 44,
   "metadata": {},
   "outputs": [],
   "source": [
    "def predict_close_price(Year, Month, Day, StockName, Positive, Negative, Neutral, TotalTweets):\n",
    "    \n",
    "    prediction = model.predict([[Year, Month, Day, StockName, Positive, Negative, Neutral, TotalTweets]])\n",
    "    print(prediction)\n",
    "    return prediction\n",
    "    "
   ]
  },
  {
   "cell_type": "code",
   "execution_count": 51,
   "metadata": {},
   "outputs": [],
   "source": [
    "import streamlit as st\n",
    "\n",
    "def main():\n",
    "    \n",
    "    st.title('GROUP D')\n",
    "    \n",
    "    html_temp = \"\"\"\n",
    "    \n",
    "    <div style = \"background-color:blue;padding:10px\">\n",
    "    <h2 style = \"color:white;text-align:center;\">VOLATILITY USING MACROHEADLINES APP</h2>\n",
    "    </div>\n",
    "    \n",
    "    \"\"\"\n",
    "    \n",
    "    st.markdown(html_temp, unsafe_allow_html = True)\n",
    "    \n",
    "    #Year\tMonth\tDay\tStockName\tPositive\tNegative\tNeutral\tTotal Tweets\n",
    "    \n",
    "    Year = st.text_input('Year', 'type here')\n",
    "    Month = st.text_input('Month', 'type here')\n",
    "    Day = st.text_input('Day', 'type here')\n",
    "    StockName = st.text_input('StockName', 'type here')\n",
    "    Positive = st.text_input('Positive', 'type here')\n",
    "    Negative = st.text_input('Negative', 'type here')\n",
    "    Neutral = st.text_input('Neutral', 'type here')\n",
    "    Total_Tweets = st.text_input('Total Tweets', 'type here')\n",
    "    \n",
    "    result =\"\"\n",
    "    \n",
    "    # when predict button is clicked, make predictions and store it\n",
    "    \n",
    "    if st.button('PREDICT CLOSE PRICE'):\n",
    "        result = predict_close_price(Year, Month, Day, StockName, Positive, Negative, Neutral, TotalTweets)\n",
    "    \n",
    "    st.success('the predicted price is {}'.format(result))\n",
    "    \n",
    "    if st.button('ABOUT'):\n",
    "        st.text('Predicting Volatility in Equity Markets Using Macroeconomic News (Twitter)')\n",
    "        "
   ]
  },
  {
   "cell_type": "code",
   "execution_count": 52,
   "metadata": {},
   "outputs": [
    {
     "name": "stderr",
     "output_type": "stream",
     "text": [
      "2021-10-05 19:52:48.044 \n",
      "  \u001b[33m\u001b[1mWarning:\u001b[0m to view this Streamlit app on a browser, run it with the following\n",
      "  command:\n",
      "\n",
      "    streamlit run C:\\Users\\ANEFU PETER\\anaconda3\\lib\\site-packages\\ipykernel_launcher.py [ARGUMENTS]\n"
     ]
    }
   ],
   "source": [
    "if __name__ == '__main__':\n",
    "    main()"
   ]
  },
  {
   "cell_type": "code",
   "execution_count": null,
   "metadata": {},
   "outputs": [],
   "source": []
  }
 ],
 "metadata": {
  "kernelspec": {
   "display_name": "Python 3 (ipykernel)",
   "language": "python",
   "name": "python3"
  },
  "language_info": {
   "codemirror_mode": {
    "name": "ipython",
    "version": 3
   },
   "file_extension": ".py",
   "mimetype": "text/x-python",
   "name": "python",
   "nbconvert_exporter": "python",
   "pygments_lexer": "ipython3",
   "version": "3.9.12"
  }
 },
 "nbformat": 4,
 "nbformat_minor": 4
}
