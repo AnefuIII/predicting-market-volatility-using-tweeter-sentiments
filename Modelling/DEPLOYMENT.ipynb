{
 "cells": [
  {
   "cell_type": "markdown",
   "metadata": {},
   "source": [
    "## DEPLOYMENT"
   ]
  },
  {
   "cell_type": "markdown",
   "metadata": {},
   "source": [
    "first, we are saving the script as app.py, and then we are loading the required libraries which are pickle to load the trained model and streamlit to build the app. Then we are loading the trained model and saving it in a variable named model."
   ]
  },
  {
   "cell_type": "code",
   "execution_count": 2,
   "metadata": {},
   "outputs": [
    {
     "name": "stdout",
     "output_type": "stream",
     "text": [
      "Overwriting app.py\n"
     ]
    }
   ],
   "source": [
    "%%writefile app.py\n",
    "\n",
    "import pickle\n",
    "import streamlit as st"
   ]
  },
  {
   "cell_type": "code",
   "execution_count": 3,
   "metadata": {},
   "outputs": [],
   "source": [
    "pickle_in = open('GBDT_MODEL.pkl', 'rb')\n",
    "model = pickle.load(pickle_in)"
   ]
  },
  {
   "cell_type": "code",
   "execution_count": 4,
   "metadata": {},
   "outputs": [],
   "source": [
    "def predict_close_price(Year, Month, Day, StockName, Positive, Negative, Neutral, TotalTweets):\n",
    "    \n",
    "    prediction = model.predict([[Year, Month, Day, StockName, Positive, Negative, Neutral, TotalTweets]])\n",
    "    print(prediction)\n",
    "    return prediction\n",
    "    "
   ]
  },
  {
   "cell_type": "code",
   "execution_count": 5,
   "metadata": {},
   "outputs": [],
   "source": [
    "def main():\n",
    "    \n",
    "    st.title('GROUP D')\n",
    "    \n",
    "    html_temp = \"\"\"\n",
    "    \n",
    "    <div style = \"background-color:blue;padding:10px\">\n",
    "    <h2 style = \"color:white;text-align:center;\">VOLATILITY USING MACROHEADLINES APP</h2>\n",
    "    </div>\n",
    "    \n",
    "    \"\"\"\n",
    "    \n",
    "    st.markdown(html_temp, unsafe_allow_html = True)\n",
    "    \n",
    "    #Year\tMonth\tDay\tStockName\tPositive\tNegative\tNeutral\tTotal Tweets\n",
    "    \n",
    "    Year = st.text_input('Year', 'type here')\n",
    "    Month = st.text_input('Month', 'type here')\n",
    "    Day = st.text_input('Day', 'type here')\n",
    "    StockName = st.text_input('StockName', 'type here')\n",
    "    Positive = st.text_input('Positive', 'type here')\n",
    "    Negative = st.text_input('Negative', 'type here')\n",
    "    Neutral = st.text_input('Neutral', 'type here')\n",
    "    Total_Tweets = st.text_input('Total Tweets', 'type here')\n",
    "    \n",
    "    result =\"\"\n",
    "    \n",
    "    # when predict button is clicked, make predictions and store it\n",
    "    \n",
    "    if st.button('PREDICT CLOSE PRICE'):\n",
    "        result = predict_close_price(Year, Month, Day, StockName, Positive, Negative, Neutral, TotalTweets)\n",
    "    \n",
    "    st.success('the predicted price is {}'.format(result))\n",
    "    \n",
    "    if st.button('ABOUT'):\n",
    "        st.text('Predicting Volatility in Equity Markets Using Macroeconomic News (Twitter)')\n",
    "        "
   ]
  },
  {
   "cell_type": "code",
   "execution_count": 6,
   "metadata": {},
   "outputs": [
    {
     "name": "stderr",
     "output_type": "stream",
     "text": [
      "2021-10-04 19:40:47.270 \n",
      "  \u001b[33m\u001b[1mWarning:\u001b[0m to view this Streamlit app on a browser, run it with the following\n",
      "  command:\n",
      "\n",
      "    streamlit run C:\\Users\\ANEFU PETER\\anaconda3\\lib\\site-packages\\ipykernel_launcher.py [ARGUMENTS]\n"
     ]
    }
   ],
   "source": [
    "if __name__ == '__main__':\n",
    "    main()"
   ]
  },
  {
   "cell_type": "code",
   "execution_count": null,
   "metadata": {},
   "outputs": [],
   "source": []
  },
  {
   "cell_type": "code",
   "execution_count": null,
   "metadata": {},
   "outputs": [],
   "source": []
  }
 ],
 "metadata": {
  "kernelspec": {
   "display_name": "Python 3 (ipykernel)",
   "language": "python",
   "name": "python3"
  },
  "language_info": {
   "codemirror_mode": {
    "name": "ipython",
    "version": 3
   },
   "file_extension": ".py",
   "mimetype": "text/x-python",
   "name": "python",
   "nbconvert_exporter": "python",
   "pygments_lexer": "ipython3",
   "version": "3.8.5"
  }
 },
 "nbformat": 4,
 "nbformat_minor": 4
}
